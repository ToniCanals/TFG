{
 "cells": [
  {
   "cell_type": "code",
   "execution_count": null,
   "id": "b85d5bbd",
   "metadata": {},
   "outputs": [],
   "source": [
    "def clearness_index(day,irradiance, solar_zenith_angle):\n",
    "    solar_zenith_angle[solar_zenith_angle > 85] = np.nan\n",
    "    gamma = 2*np.pi*(day-1)/(365)\n",
    "    E0 = 1.000110 + 0.034221*np.cos(gamma) + 0.001280*np.sin(gamma) +\\\n",
    "    0.000719*np.cos(2*gamma) + 0.000077*np.sin(2*gamma)\n",
    "    #rho = E0**-2\n",
    "    rho = E0\n",
    "    cos_theta = np.cos(np.radians(solar_zenith_angle))\n",
    "    #cos_theta[cos_theta < 0] = np.nan\n",
    "    k = irradiance / (1367*rho*cos_theta)\n",
    "    return k"
   ]
  },
  {
   "cell_type": "code",
   "execution_count": null,
   "id": "63217a86",
   "metadata": {},
   "outputs": [],
   "source": [
    "K = clearness_index(col4,col7,col6)\n",
    "#col4 day, col7 irradiance,col6 sza"
   ]
  }
 ],
 "metadata": {
  "kernelspec": {
   "display_name": "Python 3 (ipykernel)",
   "language": "python",
   "name": "python3"
  },
  "language_info": {
   "codemirror_mode": {
    "name": "ipython",
    "version": 3
   },
   "file_extension": ".py",
   "mimetype": "text/x-python",
   "name": "python",
   "nbconvert_exporter": "python",
   "pygments_lexer": "ipython3",
   "version": "3.9.16"
  }
 },
 "nbformat": 4,
 "nbformat_minor": 5
}
