{
 "cells": [
  {
   "cell_type": "code",
   "execution_count": 3,
   "id": "71f2dfbc",
   "metadata": {},
   "outputs": [],
   "source": [
    "import numpy as np\n",
    "import math as m"
   ]
  },
  {
   "cell_type": "code",
   "execution_count": 16,
   "id": "4c397d7c",
   "metadata": {},
   "outputs": [
    {
     "name": "stdout",
     "output_type": "stream",
     "text": [
      "hangle1 : 0.436 rad\n",
      "hangle2 : 0.480 rad\n",
      "sol_decl_angle : 0.401 rad\n",
      "gamma : 2.695 rad\n",
      "E0 : 0.970\n",
      "C : 0.038\n",
      "S0 : 698061.962\n",
      "H : 553800\n",
      "kt : 0.793\n"
     ]
    }
   ],
   "source": [
    "G0 = 1367 # Wm-2\n",
    "lat_cancer = m.radians(23+45/60)\n",
    "lat_rad = m.radians(41.48)\n",
    "lat = lat_rad\n",
    "\n",
    "#doy....\n",
    "#hora...\n",
    "day  = 157.57639\n",
    "hour = 13.8333333\n",
    "\n",
    "\n",
    "hangle1 = 15*(hour- 1/6 - 12)*(np.pi/180)\n",
    "print(\"hangle1 : {:.3f} rad\".format(hangle1))\n",
    "#print(\"{:.2f}\".format(a))\n",
    "hangle2 = 15*(hour - 12)*(np.pi/180)\n",
    "print(\"hangle2 : {:.3f} rad\".format(hangle2))\n",
    "sol_decl_angle = lat_cancer*np.sin(2*np.pi*(day + 284)/365)\n",
    "\n",
    "print(\"sol_decl_angle : {:.3f} rad\".format(sol_decl_angle))\n",
    "gamma = 2*np.pi*(day-1)/365\n",
    "print(\"gamma : {:.3f} rad\".format(gamma))\n",
    "E0 = 1.000110 + 0.034221*np.cos(gamma) + 0.001280*np.sin(gamma) + 0.000719*np.cos(2*gamma) + 0.000077*np.sin(2*gamma)\n",
    "print(\"E0 : {:.3f}\".format(E0))\n",
    "C = (np.sin(hangle2) - np.sin(hangle1))*np.cos(lat)*np.cos(sol_decl_angle) +\\\n",
    "(np.pi/72)*np.sin(lat)*np.sin(sol_decl_angle)\n",
    "print(\"C : {:.3f}\".format(C))\n",
    "\n",
    "S0 = 86400*G0*E0*C/(2*np.pi)\n",
    "print(\"S0 : {:.3f}\".format(S0))\n",
    "H = 923*600\n",
    "print('H : {}'.format(H))\n",
    "kt=H/S0\n",
    "#print('kt : {:.3f}'.format(kt))\n",
    "print(f'kt : {kt:.3f}') # Optimal (SHORTER)"
   ]
  },
  {
   "cell_type": "code",
   "execution_count": null,
   "id": "40f175c9",
   "metadata": {},
   "outputs": [],
   "source": [
    "#H            iguals \n",
    "#angle1       iguals\n",
    "#angle2       iguals\n"
   ]
  }
 ],
 "metadata": {
  "kernelspec": {
   "display_name": "Python 3 (ipykernel)",
   "language": "python",
   "name": "python3"
  },
  "language_info": {
   "codemirror_mode": {
    "name": "ipython",
    "version": 3
   },
   "file_extension": ".py",
   "mimetype": "text/x-python",
   "name": "python",
   "nbconvert_exporter": "python",
   "pygments_lexer": "ipython3",
   "version": "3.9.16"
  }
 },
 "nbformat": 4,
 "nbformat_minor": 5
}
