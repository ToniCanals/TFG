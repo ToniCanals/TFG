{
 "cells": [
  {
   "cell_type": "code",
   "execution_count": 1,
   "id": "b779cca7",
   "metadata": {},
   "outputs": [
    {
     "name": "stdout",
     "output_type": "stream",
     "text": [
      "3\n",
      "+911234567891\n",
      "9876543210\n",
      "9687543210\n",
      "+91 12345 67891\n",
      "+91 96875 43210\n",
      "+91 98765 43210\n"
     ]
    }
   ],
   "source": [
    "def wrapper(f):\n",
    "    def fun(l):\n",
    "        # complete the function\n",
    "        dec = [f'+91 {i[-10:-5]} {i[-5:]}' for i in l]\n",
    "        f(dec)\n",
    "    return fun\n",
    "\n",
    "@wrapper\n",
    "def sort_phone(l):\n",
    "    print(*sorted(l), sep='\\n')\n",
    "\n",
    "\n",
    "    return fun\n",
    "\n",
    "@wrapper\n",
    "def sort_phone(l):\n",
    "    print(*sorted(l), sep='\\n')\n",
    "\n",
    "if __name__ == '__main__':\n",
    "    l = [input() for _ in range(int(input()))]\n",
    "    sort_phone(l)"
   ]
  },
  {
   "cell_type": "code",
   "execution_count": null,
   "id": "8a1bee0a",
   "metadata": {},
   "outputs": [
    {
     "name": "stdout",
     "output_type": "stream",
     "text": [
      "0\n"
     ]
    }
   ],
   "source": [
    "if __name__ == '__main__':\n",
    "    lst = []\n",
    "    for _ in range(int(input())):\n",
    "        name = input()\n",
    "        score = float(input())\n",
    "        lst.append([name,score])\n",
    "    \n",
    "\n",
    "    \n",
    "        \n",
    "    print(lst)\n",
    "    lst.sort(key=lambda x: (x[1], x[0]))"
   ]
  },
  {
   "cell_type": "code",
   "execution_count": 4,
   "id": "910353f6",
   "metadata": {},
   "outputs": [
    {
     "name": "stdout",
     "output_type": "stream",
     "text": [
      "aa-\n",
      "aa-bb-\n"
     ]
    }
   ],
   "source": [
    "lst = [\"aa\",\"bb\"]\n",
    "string = \"\"\n",
    "for i in lst:\n",
    "    string+=str(i)\n",
    "    string += \"-\"\n",
    "    print(string)"
   ]
  },
  {
   "cell_type": "code",
   "execution_count": 9,
   "id": "09d86518",
   "metadata": {},
   "outputs": [],
   "source": [
    "def repeatedString(s, n):\n",
    "    # Write your code here\n",
    "    print((n//len(s))*s)\n",
    "    print(s[:n%len(s)])\n",
    "    return (n//len(s))*s.count('a')# + s[:n%len(s)].count('a')"
   ]
  },
  {
   "cell_type": "code",
   "execution_count": 21,
   "id": "e265fa36",
   "metadata": {},
   "outputs": [],
   "source": [
    "def repeatedString(s : list[str], n: int)->int:\n",
    "    # Write your code here\n",
    "    print((n//len(s))*s)\n",
    "    #print(s[:n%len(s)])\n",
    "    return (n//len(s))*s.count('a') + (s[:n%len(s)].count('a'))"
   ]
  },
  {
   "cell_type": "code",
   "execution_count": 22,
   "id": "ef313974",
   "metadata": {},
   "outputs": [
    {
     "name": "stdout",
     "output_type": "stream",
     "text": [
      "\n"
     ]
    },
    {
     "data": {
      "text/plain": [
       "2"
      ]
     },
     "execution_count": 22,
     "metadata": {},
     "output_type": "execute_result"
    }
   ],
   "source": [
    "repeatedString('iavbaibaviavbaa',5)"
   ]
  },
  {
   "cell_type": "code",
   "execution_count": 10,
   "id": "d682ea88",
   "metadata": {},
   "outputs": [
    {
     "name": "stdout",
     "output_type": "stream",
     "text": [
      "abaabaaba\n",
      "a\n"
     ]
    },
    {
     "data": {
      "text/plain": [
       "6"
      ]
     },
     "execution_count": 10,
     "metadata": {},
     "output_type": "execute_result"
    }
   ],
   "source": [
    "s= 'aba'\n",
    "n=10\n",
    "repeatedString(s,n)"
   ]
  },
  {
   "cell_type": "code",
   "execution_count": 18,
   "id": "8362cf47",
   "metadata": {},
   "outputs": [],
   "source": [
    "ls = [1,2,3,4,5,6]"
   ]
  },
  {
   "cell_type": "code",
   "execution_count": 12,
   "id": "ee961f40",
   "metadata": {},
   "outputs": [
    {
     "data": {
      "text/plain": [
       "[4, 5]"
      ]
     },
     "execution_count": 12,
     "metadata": {},
     "output_type": "execute_result"
    }
   ],
   "source": [
    "ls[3:5]"
   ]
  },
  {
   "cell_type": "code",
   "execution_count": 22,
   "id": "fda02da7",
   "metadata": {},
   "outputs": [],
   "source": [
    "ls_2 = [[1,2,3,4,5,6],[1,2,3,4,5,6]]\n",
    "\n",
    "#sum(ls_2[0][1:1+2])\n",
    "#ls_2[0][1:1+2]\n"
   ]
  },
  {
   "cell_type": "code",
   "execution_count": 26,
   "id": "b14bf7c8",
   "metadata": {},
   "outputs": [
    {
     "name": "stdout",
     "output_type": "stream",
     "text": [
      "[8, 11, 16, 23, 32, 43]\n"
     ]
    }
   ],
   "source": [
    "print(list(map(lambda x: x**2 + 7,ls)))\n"
   ]
  },
  {
   "cell_type": "code",
   "execution_count": 8,
   "id": "1bd49594",
   "metadata": {},
   "outputs": [],
   "source": [
    "import datetime\n",
    "import matplotlib.pyplot as plt\n",
    "import numpy as np\n",
    "#from matplotlib.dates import mdates"
   ]
  },
  {
   "cell_type": "code",
   "execution_count": null,
   "id": "c80dee09",
   "metadata": {},
   "outputs": [],
   "source": []
  }
 ],
 "metadata": {
  "kernelspec": {
   "display_name": "Python 3 (ipykernel)",
   "language": "python",
   "name": "python3"
  },
  "language_info": {
   "codemirror_mode": {
    "name": "ipython",
    "version": 3
   },
   "file_extension": ".py",
   "mimetype": "text/x-python",
   "name": "python",
   "nbconvert_exporter": "python",
   "pygments_lexer": "ipython3",
   "version": "3.9.16"
  }
 },
 "nbformat": 4,
 "nbformat_minor": 5
}
