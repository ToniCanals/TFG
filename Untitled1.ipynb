{
 "cells": [
  {
   "cell_type": "code",
   "execution_count": null,
   "id": "635be116",
   "metadata": {},
   "outputs": [
    {
     "name": "stderr",
     "output_type": "stream",
     "text": [
      "C:\\Users\\T.C\\AppData\\Local\\Temp\\ipykernel_9428\\2560936936.py:5: DtypeWarning: Columns (1,3) have mixed types. Specify dtype option on import or set low_memory=False.\n",
      "  data = pd.read_csv('PER10min2009_2022_RS_H.csv')\n"
     ]
    }
   ],
   "source": [
    "import pandas as pd\n",
    "import matplotlib.pyplot as plt\n",
    "\n",
    "\n",
    "data = pd.read_csv('PER10min2009_2022_RS_H.csv')\n",
    "start = '2013-01-01 00:00:00'\n",
    "end = '2022-12-31 23:50:00'\n",
    "\n",
    "timestamps = list(data['TIMESTAMP'])\n",
    "values = list(data['RS_Avg'])\n",
    "\n",
    "start_index = timestamps.index(start)\n",
    "end_index = timestamps.index(end)\n",
    "\n",
    "sub_timestamps = timestamps[start_index : end_index]\n",
    "#RS_Avg = data[3]\n",
    "sub_values = values[start_index : end_index]\n",
    "\n",
    "plt.plot(sub_timestamps, sub_values, label='Temperature [deg C]')\n",
    "plt.xlabel('time [hh:mm:ss]')\n",
    "plt.ylabel('Temp [deg C]')\n",
    "plt.subplots_adjust(bottom=0.35)\n",
    "_, labels = plt.xticks()\n",
    "plt.setp(labels, rotation=45)\n",
    "plt.show()"
   ]
  },
  {
   "cell_type": "code",
   "execution_count": null,
   "id": "dd677e22",
   "metadata": {},
   "outputs": [],
   "source": [
    "df = pd.read_csv('PER10min2009_2022_RS_H.csv', sep='\\t', iterator=True, chunksize=1000)\n"
   ]
  }
 ],
 "metadata": {
  "kernelspec": {
   "display_name": "Python 3 (ipykernel)",
   "language": "python",
   "name": "python3"
  },
  "language_info": {
   "codemirror_mode": {
    "name": "ipython",
    "version": 3
   },
   "file_extension": ".py",
   "mimetype": "text/x-python",
   "name": "python",
   "nbconvert_exporter": "python",
   "pygments_lexer": "ipython3",
   "version": "3.9.16"
  }
 },
 "nbformat": 4,
 "nbformat_minor": 5
}
