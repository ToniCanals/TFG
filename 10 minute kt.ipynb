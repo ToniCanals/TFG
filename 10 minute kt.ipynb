{
 "cells": [
  {
   "cell_type": "code",
   "execution_count": 84,
   "id": "c04c4e91",
   "metadata": {},
   "outputs": [],
   "source": [
    "import pandas as pd\n",
    "import numpy as np\n",
    "import math as m\n",
    "#from datetime import datetime\n",
    "from datetime import date, datetime, timedelta\n",
    "import csv\n",
    "import matplotlib\n",
    "import matplotlib.pyplot as plt"
   ]
  },
  {
   "cell_type": "code",
   "execution_count": 9,
   "id": "cca50147",
   "metadata": {},
   "outputs": [],
   "source": [
    "df = pd.read_csv('RS_newFile2.txt')  "
   ]
  },
  {
   "cell_type": "code",
   "execution_count": 3,
   "id": "29720e4b",
   "metadata": {},
   "outputs": [
    {
     "data": {
      "text/html": [
       "<div>\n",
       "<style scoped>\n",
       "    .dataframe tbody tr th:only-of-type {\n",
       "        vertical-align: middle;\n",
       "    }\n",
       "\n",
       "    .dataframe tbody tr th {\n",
       "        vertical-align: top;\n",
       "    }\n",
       "\n",
       "    .dataframe thead th {\n",
       "        text-align: right;\n",
       "    }\n",
       "</style>\n",
       "<table border=\"1\" class=\"dataframe\">\n",
       "  <thead>\n",
       "    <tr style=\"text-align: right;\">\n",
       "      <th></th>\n",
       "      <th>Date Time RS_Avg doy height SZA RS</th>\n",
       "    </tr>\n",
       "  </thead>\n",
       "  <tbody>\n",
       "    <tr>\n",
       "      <th>0</th>\n",
       "      <td>yyyy-mm-dd hh:mm:ss W/m2 doy deg deg W/m2</td>\n",
       "    </tr>\n",
       "    <tr>\n",
       "      <th>1</th>\n",
       "      <td>1 2009-01-01 00:00:00 0.00 1 -70.53 160.53 NA</td>\n",
       "    </tr>\n",
       "    <tr>\n",
       "      <th>2</th>\n",
       "      <td>2 2009-01-01 00:10:00 0.00 1 -70.35 160.35 NA</td>\n",
       "    </tr>\n",
       "    <tr>\n",
       "      <th>3</th>\n",
       "      <td>3 2009-01-01 00:20:00 0.00 1 -69.96 159.96 NA</td>\n",
       "    </tr>\n",
       "    <tr>\n",
       "      <th>4</th>\n",
       "      <td>4 2009-01-01 00:30:00 0.00 1 -69.37 159.37 NA</td>\n",
       "    </tr>\n",
       "    <tr>\n",
       "      <th>...</th>\n",
       "      <td>...</td>\n",
       "    </tr>\n",
       "    <tr>\n",
       "      <th>730243</th>\n",
       "      <td>730243 2022-12-31 23:10:00 0.00 365 -68.27 158...</td>\n",
       "    </tr>\n",
       "    <tr>\n",
       "      <th>730244</th>\n",
       "      <td>730244 2022-12-31 23:20:00 0.00 365 -69.11 159...</td>\n",
       "    </tr>\n",
       "    <tr>\n",
       "      <th>730245</th>\n",
       "      <td>730245 2022-12-31 23:30:00 0.00 365 -69.78 159...</td>\n",
       "    </tr>\n",
       "    <tr>\n",
       "      <th>730246</th>\n",
       "      <td>730246 2022-12-31 23:40:00 0.00 365 -70.25 160...</td>\n",
       "    </tr>\n",
       "    <tr>\n",
       "      <th>730247</th>\n",
       "      <td>730247 2022-12-31 23:50:00 0.00 365 -70.52 160...</td>\n",
       "    </tr>\n",
       "  </tbody>\n",
       "</table>\n",
       "<p>730248 rows × 1 columns</p>\n",
       "</div>"
      ],
      "text/plain": [
       "                       Date Time RS_Avg doy height SZA RS\n",
       "0               yyyy-mm-dd hh:mm:ss W/m2 doy deg deg W/m2\n",
       "1           1 2009-01-01 00:00:00 0.00 1 -70.53 160.53 NA\n",
       "2           2 2009-01-01 00:10:00 0.00 1 -70.35 160.35 NA\n",
       "3           3 2009-01-01 00:20:00 0.00 1 -69.96 159.96 NA\n",
       "4           4 2009-01-01 00:30:00 0.00 1 -69.37 159.37 NA\n",
       "...                                                   ...\n",
       "730243  730243 2022-12-31 23:10:00 0.00 365 -68.27 158...\n",
       "730244  730244 2022-12-31 23:20:00 0.00 365 -69.11 159...\n",
       "730245  730245 2022-12-31 23:30:00 0.00 365 -69.78 159...\n",
       "730246  730246 2022-12-31 23:40:00 0.00 365 -70.25 160...\n",
       "730247  730247 2022-12-31 23:50:00 0.00 365 -70.52 160...\n",
       "\n",
       "[730248 rows x 1 columns]"
      ]
     },
     "execution_count": 3,
     "metadata": {},
     "output_type": "execute_result"
    }
   ],
   "source": [
    "pd.read_csv('RS_newFile2.txt')  "
   ]
  },
  {
   "cell_type": "code",
   "execution_count": 19,
   "id": "7f884ac6",
   "metadata": {},
   "outputs": [
    {
     "name": "stdout",
     "output_type": "stream",
     "text": [
      "['Date Time RS_Avg doy height SZA RS']\n"
     ]
    }
   ],
   "source": [
    "print(df.columns.tolist())"
   ]
  },
  {
   "cell_type": "code",
   "execution_count": 22,
   "id": "63aca336",
   "metadata": {},
   "outputs": [],
   "source": [
    "df = pd.read_csv('RS_newFile.txt')\n"
   ]
  },
  {
   "cell_type": "code",
   "execution_count": 23,
   "id": "35f25f6f",
   "metadata": {},
   "outputs": [
    {
     "name": "stdout",
     "output_type": "stream",
     "text": [
      "['Date Time doy height SZA RS']\n"
     ]
    }
   ],
   "source": [
    "print(df.columns.tolist())"
   ]
  },
  {
   "cell_type": "code",
   "execution_count": 24,
   "id": "39039311",
   "metadata": {},
   "outputs": [
    {
     "name": "stderr",
     "output_type": "stream",
     "text": [
      "C:\\Users\\T.C\\AppData\\Local\\Temp\\ipykernel_14016\\818730342.py:1: DtypeWarning: Columns (1,3) have mixed types. Specify dtype option on import or set low_memory=False.\n",
      "  df = pd.read_csv('PER10min2009_2022_RS_H.csv')\n"
     ]
    }
   ],
   "source": [
    "df = pd.read_csv('PER10min2009_2022_RS_H.csv')"
   ]
  },
  {
   "cell_type": "code",
   "execution_count": 25,
   "id": "4311a064",
   "metadata": {},
   "outputs": [
    {
     "name": "stdout",
     "output_type": "stream",
     "text": [
      "['TIMESTAMP', 'RS_Std', 'HumR1min_Avg', 'RS_Avg']\n"
     ]
    }
   ],
   "source": [
    "print(df.columns.tolist())"
   ]
  },
  {
   "cell_type": "code",
   "execution_count": 26,
   "id": "485b3d96",
   "metadata": {},
   "outputs": [
    {
     "name": "stderr",
     "output_type": "stream",
     "text": [
      "C:\\Users\\T.C\\AppData\\Local\\Temp\\ipykernel_14016\\3866723669.py:1: DtypeWarning: Columns (2,4) have mixed types. Specify dtype option on import or set low_memory=False.\n",
      "  df = pd.read_csv('output_file.csv')\n"
     ]
    }
   ],
   "source": [
    "df = pd.read_csv('output_file.csv')"
   ]
  },
  {
   "cell_type": "code",
   "execution_count": 27,
   "id": "5897d432",
   "metadata": {},
   "outputs": [
    {
     "name": "stdout",
     "output_type": "stream",
     "text": [
      "['index', 'TIMESTAMP', 'RS_Std', 'HumR1min_Avg', 'RS_Avg', 'zenith_angle_deg']\n"
     ]
    }
   ],
   "source": [
    "print(df.columns.tolist())"
   ]
  },
  {
   "cell_type": "code",
   "execution_count": null,
   "id": "3c3083b9",
   "metadata": {},
   "outputs": [],
   "source": [
    "# Afegim doy i hour"
   ]
  },
  {
   "cell_type": "code",
   "execution_count": 34,
   "id": "d805cf38",
   "metadata": {},
   "outputs": [
    {
     "ename": "AttributeError",
     "evalue": "'Series' object has no attribute 'dayofyear'",
     "output_type": "error",
     "traceback": [
      "\u001b[1;31m---------------------------------------------------------------------------\u001b[0m",
      "\u001b[1;31mAttributeError\u001b[0m                            Traceback (most recent call last)",
      "Cell \u001b[1;32mIn[34], line 1\u001b[0m\n\u001b[1;32m----> 1\u001b[0m \u001b[43mdf\u001b[49m\u001b[43m[\u001b[49m\u001b[38;5;124;43m'\u001b[39;49m\u001b[38;5;124;43mTIMESTAMP\u001b[39;49m\u001b[38;5;124;43m'\u001b[39;49m\u001b[43m]\u001b[49m\u001b[38;5;241;43m.\u001b[39;49m\u001b[43mdayofyear\u001b[49m\n",
      "File \u001b[1;32m~\\anaconda3_1\\lib\\site-packages\\pandas\\core\\generic.py:5902\u001b[0m, in \u001b[0;36mNDFrame.__getattr__\u001b[1;34m(self, name)\u001b[0m\n\u001b[0;32m   5895\u001b[0m \u001b[38;5;28;01mif\u001b[39;00m (\n\u001b[0;32m   5896\u001b[0m     name \u001b[38;5;129;01mnot\u001b[39;00m \u001b[38;5;129;01min\u001b[39;00m \u001b[38;5;28mself\u001b[39m\u001b[38;5;241m.\u001b[39m_internal_names_set\n\u001b[0;32m   5897\u001b[0m     \u001b[38;5;129;01mand\u001b[39;00m name \u001b[38;5;129;01mnot\u001b[39;00m \u001b[38;5;129;01min\u001b[39;00m \u001b[38;5;28mself\u001b[39m\u001b[38;5;241m.\u001b[39m_metadata\n\u001b[0;32m   5898\u001b[0m     \u001b[38;5;129;01mand\u001b[39;00m name \u001b[38;5;129;01mnot\u001b[39;00m \u001b[38;5;129;01min\u001b[39;00m \u001b[38;5;28mself\u001b[39m\u001b[38;5;241m.\u001b[39m_accessors\n\u001b[0;32m   5899\u001b[0m     \u001b[38;5;129;01mand\u001b[39;00m \u001b[38;5;28mself\u001b[39m\u001b[38;5;241m.\u001b[39m_info_axis\u001b[38;5;241m.\u001b[39m_can_hold_identifiers_and_holds_name(name)\n\u001b[0;32m   5900\u001b[0m ):\n\u001b[0;32m   5901\u001b[0m     \u001b[38;5;28;01mreturn\u001b[39;00m \u001b[38;5;28mself\u001b[39m[name]\n\u001b[1;32m-> 5902\u001b[0m \u001b[38;5;28;01mreturn\u001b[39;00m \u001b[38;5;28;43mobject\u001b[39;49m\u001b[38;5;241;43m.\u001b[39;49m\u001b[38;5;21;43m__getattribute__\u001b[39;49m\u001b[43m(\u001b[49m\u001b[38;5;28;43mself\u001b[39;49m\u001b[43m,\u001b[49m\u001b[43m \u001b[49m\u001b[43mname\u001b[49m\u001b[43m)\u001b[49m\n",
      "\u001b[1;31mAttributeError\u001b[0m: 'Series' object has no attribute 'dayofyear'"
     ]
    }
   ],
   "source": [
    "df['TIMESTAMP'].dayofyear"
   ]
  },
  {
   "cell_type": "code",
   "execution_count": 39,
   "id": "67255b46",
   "metadata": {},
   "outputs": [],
   "source": [
    "df['TIMESTAMP']  = pd.to_datetime(df['TIMESTAMP'])"
   ]
  },
  {
   "cell_type": "code",
   "execution_count": 43,
   "id": "45474b81",
   "metadata": {},
   "outputs": [
    {
     "ename": "AttributeError",
     "evalue": "'Series' object has no attribute 'year'",
     "output_type": "error",
     "traceback": [
      "\u001b[1;31m---------------------------------------------------------------------------\u001b[0m",
      "\u001b[1;31mAttributeError\u001b[0m                            Traceback (most recent call last)",
      "Cell \u001b[1;32mIn[43], line 1\u001b[0m\n\u001b[1;32m----> 1\u001b[0m \u001b[43mdf\u001b[49m\u001b[43m[\u001b[49m\u001b[38;5;124;43m'\u001b[39;49m\u001b[38;5;124;43mTIMESTAMP\u001b[39;49m\u001b[38;5;124;43m'\u001b[39;49m\u001b[43m]\u001b[49m\u001b[38;5;241;43m.\u001b[39;49m\u001b[43myear\u001b[49m\n",
      "File \u001b[1;32m~\\anaconda3_1\\lib\\site-packages\\pandas\\core\\generic.py:5902\u001b[0m, in \u001b[0;36mNDFrame.__getattr__\u001b[1;34m(self, name)\u001b[0m\n\u001b[0;32m   5895\u001b[0m \u001b[38;5;28;01mif\u001b[39;00m (\n\u001b[0;32m   5896\u001b[0m     name \u001b[38;5;129;01mnot\u001b[39;00m \u001b[38;5;129;01min\u001b[39;00m \u001b[38;5;28mself\u001b[39m\u001b[38;5;241m.\u001b[39m_internal_names_set\n\u001b[0;32m   5897\u001b[0m     \u001b[38;5;129;01mand\u001b[39;00m name \u001b[38;5;129;01mnot\u001b[39;00m \u001b[38;5;129;01min\u001b[39;00m \u001b[38;5;28mself\u001b[39m\u001b[38;5;241m.\u001b[39m_metadata\n\u001b[0;32m   5898\u001b[0m     \u001b[38;5;129;01mand\u001b[39;00m name \u001b[38;5;129;01mnot\u001b[39;00m \u001b[38;5;129;01min\u001b[39;00m \u001b[38;5;28mself\u001b[39m\u001b[38;5;241m.\u001b[39m_accessors\n\u001b[0;32m   5899\u001b[0m     \u001b[38;5;129;01mand\u001b[39;00m \u001b[38;5;28mself\u001b[39m\u001b[38;5;241m.\u001b[39m_info_axis\u001b[38;5;241m.\u001b[39m_can_hold_identifiers_and_holds_name(name)\n\u001b[0;32m   5900\u001b[0m ):\n\u001b[0;32m   5901\u001b[0m     \u001b[38;5;28;01mreturn\u001b[39;00m \u001b[38;5;28mself\u001b[39m[name]\n\u001b[1;32m-> 5902\u001b[0m \u001b[38;5;28;01mreturn\u001b[39;00m \u001b[38;5;28;43mobject\u001b[39;49m\u001b[38;5;241;43m.\u001b[39;49m\u001b[38;5;21;43m__getattribute__\u001b[39;49m\u001b[43m(\u001b[49m\u001b[38;5;28;43mself\u001b[39;49m\u001b[43m,\u001b[49m\u001b[43m \u001b[49m\u001b[43mname\u001b[49m\u001b[43m)\u001b[49m\n",
      "\u001b[1;31mAttributeError\u001b[0m: 'Series' object has no attribute 'year'"
     ]
    }
   ],
   "source": [
    "df['TIMESTAMP'].year\n"
   ]
  },
  {
   "cell_type": "code",
   "execution_count": 44,
   "id": "5c5f0269",
   "metadata": {},
   "outputs": [
    {
     "data": {
      "text/plain": [
       "0         2009.0\n",
       "1         2009.0\n",
       "2         2009.0\n",
       "3         2009.0\n",
       "4         2009.0\n",
       "           ...  \n",
       "730242    2022.0\n",
       "730243    2022.0\n",
       "730244    2022.0\n",
       "730245    2022.0\n",
       "730246    2022.0\n",
       "Name: TIMESTAMP, Length: 730247, dtype: float64"
      ]
     },
     "execution_count": 44,
     "metadata": {},
     "output_type": "execute_result"
    }
   ],
   "source": [
    "pd.to_datetime(df['TIMESTAMP']).dt.year"
   ]
  },
  {
   "cell_type": "code",
   "execution_count": 45,
   "id": "c1cf1754",
   "metadata": {},
   "outputs": [
    {
     "data": {
      "text/plain": [
       "0          1.0\n",
       "1          1.0\n",
       "2          1.0\n",
       "3          1.0\n",
       "4          1.0\n",
       "          ... \n",
       "730242    12.0\n",
       "730243    12.0\n",
       "730244    12.0\n",
       "730245    12.0\n",
       "730246    12.0\n",
       "Name: TIMESTAMP, Length: 730247, dtype: float64"
      ]
     },
     "execution_count": 45,
     "metadata": {},
     "output_type": "execute_result"
    }
   ],
   "source": [
    "pd.to_datetime(df['TIMESTAMP']).dt.month"
   ]
  },
  {
   "cell_type": "code",
   "execution_count": 46,
   "id": "395e7d57",
   "metadata": {},
   "outputs": [
    {
     "data": {
      "text/plain": [
       "0           1.0\n",
       "1           1.0\n",
       "2           1.0\n",
       "3           1.0\n",
       "4           1.0\n",
       "          ...  \n",
       "730242    365.0\n",
       "730243    365.0\n",
       "730244    365.0\n",
       "730245    365.0\n",
       "730246    365.0\n",
       "Name: TIMESTAMP, Length: 730247, dtype: float64"
      ]
     },
     "execution_count": 46,
     "metadata": {},
     "output_type": "execute_result"
    }
   ],
   "source": [
    "pd.to_datetime(df['TIMESTAMP']).dt.dayofyear"
   ]
  },
  {
   "cell_type": "code",
   "execution_count": 47,
   "id": "560e5847",
   "metadata": {},
   "outputs": [
    {
     "data": {
      "text/plain": [
       "0          0.0\n",
       "1          0.0\n",
       "2          0.0\n",
       "3          0.0\n",
       "4          0.0\n",
       "          ... \n",
       "730242    23.0\n",
       "730243    23.0\n",
       "730244    23.0\n",
       "730245    23.0\n",
       "730246    23.0\n",
       "Name: TIMESTAMP, Length: 730247, dtype: float64"
      ]
     },
     "execution_count": 47,
     "metadata": {},
     "output_type": "execute_result"
    }
   ],
   "source": [
    "pd.to_datetime(df['TIMESTAMP']).dt.hour"
   ]
  },
  {
   "cell_type": "code",
   "execution_count": 48,
   "id": "583c4694",
   "metadata": {},
   "outputs": [
    {
     "data": {
      "text/plain": [
       "0          0.0\n",
       "1         10.0\n",
       "2         20.0\n",
       "3         30.0\n",
       "4         40.0\n",
       "          ... \n",
       "730242    10.0\n",
       "730243    20.0\n",
       "730244    30.0\n",
       "730245    40.0\n",
       "730246    50.0\n",
       "Name: TIMESTAMP, Length: 730247, dtype: float64"
      ]
     },
     "execution_count": 48,
     "metadata": {},
     "output_type": "execute_result"
    }
   ],
   "source": [
    "pd.to_datetime(df['TIMESTAMP']).dt.minute"
   ]
  },
  {
   "cell_type": "code",
   "execution_count": 49,
   "id": "766e500e",
   "metadata": {},
   "outputs": [
    {
     "data": {
      "text/plain": [
       "0          0.000000\n",
       "1          0.166667\n",
       "2          0.333333\n",
       "3          0.500000\n",
       "4          0.666667\n",
       "            ...    \n",
       "730242    23.166667\n",
       "730243    23.333333\n",
       "730244    23.500000\n",
       "730245    23.666667\n",
       "730246    23.833333\n",
       "Name: TIMESTAMP, Length: 730247, dtype: float64"
      ]
     },
     "execution_count": 49,
     "metadata": {},
     "output_type": "execute_result"
    }
   ],
   "source": [
    "pd.to_datetime(df['TIMESTAMP']).dt.hour + pd.to_datetime(df['TIMESTAMP']).dt.minute/60"
   ]
  },
  {
   "cell_type": "code",
   "execution_count": 50,
   "id": "f72c6560",
   "metadata": {},
   "outputs": [],
   "source": [
    "df['Hour'] = pd.to_datetime(df['TIMESTAMP']).dt.hour + pd.to_datetime(df['TIMESTAMP']).dt.minute/60\n",
    "df.to_csv('results_1.csv', index=False)"
   ]
  },
  {
   "cell_type": "code",
   "execution_count": null,
   "id": "edf54594",
   "metadata": {},
   "outputs": [],
   "source": [
    "#--------------------------"
   ]
  },
  {
   "cell_type": "code",
   "execution_count": 85,
   "id": "b5b213bc",
   "metadata": {},
   "outputs": [
    {
     "name": "stderr",
     "output_type": "stream",
     "text": [
      "C:\\Users\\T.C\\AppData\\Local\\Temp\\ipykernel_3244\\3911663359.py:1: DtypeWarning: Columns (1,2) have mixed types. Specify dtype option on import or set low_memory=False.\n",
      "  df = pd.read_csv('results_1.csv')\n"
     ]
    }
   ],
   "source": [
    "df = pd.read_csv('results_1.csv')"
   ]
  },
  {
   "cell_type": "code",
   "execution_count": 87,
   "id": "98ddaa03",
   "metadata": {},
   "outputs": [],
   "source": [
    "df['Day'] = pd.to_datetime(df['TIMESTAMP']).dt.dayofyear + pd.to_datetime(df['TIMESTAMP']).dt.hour/24 + pd.to_datetime(df['TIMESTAMP']).dt.minute/1440\n",
    "df.to_csv('results_1.csv', index=False)"
   ]
  },
  {
   "cell_type": "markdown",
   "id": "ee09fb58",
   "metadata": {},
   "source": [
    "# Yolanda, a partir d'aqui !"
   ]
  },
  {
   "cell_type": "markdown",
   "id": "5e0bb5f0",
   "metadata": {},
   "source": [
    "# Hem d'afegir una columna per hores al dataframe ---> FET\n"
   ]
  },
  {
   "cell_type": "code",
   "execution_count": 37,
   "id": "7b8a29ce",
   "metadata": {},
   "outputs": [
    {
     "name": "stderr",
     "output_type": "stream",
     "text": [
      "C:\\Users\\T.C\\AppData\\Local\\Temp\\ipykernel_3244\\3911663359.py:1: DtypeWarning: Columns (1,2) have mixed types. Specify dtype option on import or set low_memory=False.\n",
      "  df = pd.read_csv('results_1.csv')\n"
     ]
    }
   ],
   "source": [
    "df = pd.read_csv('results_1.csv')"
   ]
  },
  {
   "cell_type": "code",
   "execution_count": 88,
   "id": "a220b708",
   "metadata": {},
   "outputs": [
    {
     "name": "stderr",
     "output_type": "stream",
     "text": [
      "C:\\Users\\T.C\\AppData\\Local\\Temp\\ipykernel_3244\\1570415248.py:1: DtypeWarning: Columns (1,2) have mixed types. Specify dtype option on import or set low_memory=False.\n",
      "  pd.read_csv('results_1.csv')\n"
     ]
    },
    {
     "data": {
      "text/html": [
       "<div>\n",
       "<style scoped>\n",
       "    .dataframe tbody tr th:only-of-type {\n",
       "        vertical-align: middle;\n",
       "    }\n",
       "\n",
       "    .dataframe tbody tr th {\n",
       "        vertical-align: top;\n",
       "    }\n",
       "\n",
       "    .dataframe thead th {\n",
       "        text-align: right;\n",
       "    }\n",
       "</style>\n",
       "<table border=\"1\" class=\"dataframe\">\n",
       "  <thead>\n",
       "    <tr style=\"text-align: right;\">\n",
       "      <th></th>\n",
       "      <th>TIMESTAMP</th>\n",
       "      <th>RS_Std</th>\n",
       "      <th>HumR1min_Avg</th>\n",
       "      <th>RS_Avg</th>\n",
       "      <th>zenith_angle_deg</th>\n",
       "      <th>Hour</th>\n",
       "      <th>Day</th>\n",
       "      <th>kt_10min</th>\n",
       "    </tr>\n",
       "  </thead>\n",
       "  <tbody>\n",
       "    <tr>\n",
       "      <th>0</th>\n",
       "      <td>2009-01-01 00:00:00</td>\n",
       "      <td>NaN</td>\n",
       "      <td>17.19</td>\n",
       "      <td>NaN</td>\n",
       "      <td>160.519214</td>\n",
       "      <td>0.000000</td>\n",
       "      <td>1.000000</td>\n",
       "      <td>NaN</td>\n",
       "    </tr>\n",
       "    <tr>\n",
       "      <th>1</th>\n",
       "      <td>2009-01-01 00:10:00</td>\n",
       "      <td>NaN</td>\n",
       "      <td>15.89</td>\n",
       "      <td>NaN</td>\n",
       "      <td>160.341724</td>\n",
       "      <td>0.166667</td>\n",
       "      <td>1.006944</td>\n",
       "      <td>NaN</td>\n",
       "    </tr>\n",
       "    <tr>\n",
       "      <th>2</th>\n",
       "      <td>2009-01-01 00:20:00</td>\n",
       "      <td>NaN</td>\n",
       "      <td>14.61</td>\n",
       "      <td>NaN</td>\n",
       "      <td>159.949193</td>\n",
       "      <td>0.333333</td>\n",
       "      <td>1.013889</td>\n",
       "      <td>NaN</td>\n",
       "    </tr>\n",
       "    <tr>\n",
       "      <th>3</th>\n",
       "      <td>2009-01-01 00:30:00</td>\n",
       "      <td>NaN</td>\n",
       "      <td>14.95</td>\n",
       "      <td>NaN</td>\n",
       "      <td>159.354097</td>\n",
       "      <td>0.500000</td>\n",
       "      <td>1.020833</td>\n",
       "      <td>NaN</td>\n",
       "    </tr>\n",
       "    <tr>\n",
       "      <th>4</th>\n",
       "      <td>2009-01-01 00:40:00</td>\n",
       "      <td>NaN</td>\n",
       "      <td>13.18</td>\n",
       "      <td>NaN</td>\n",
       "      <td>158.573632</td>\n",
       "      <td>0.666667</td>\n",
       "      <td>1.027778</td>\n",
       "      <td>NaN</td>\n",
       "    </tr>\n",
       "    <tr>\n",
       "      <th>...</th>\n",
       "      <td>...</td>\n",
       "      <td>...</td>\n",
       "      <td>...</td>\n",
       "      <td>...</td>\n",
       "      <td>...</td>\n",
       "      <td>...</td>\n",
       "      <td>...</td>\n",
       "      <td>...</td>\n",
       "    </tr>\n",
       "    <tr>\n",
       "      <th>730242</th>\n",
       "      <td>2022-12-31 23:10:00</td>\n",
       "      <td>0.0</td>\n",
       "      <td>53.41</td>\n",
       "      <td>NaN</td>\n",
       "      <td>158.271643</td>\n",
       "      <td>23.166667</td>\n",
       "      <td>365.965278</td>\n",
       "      <td>NaN</td>\n",
       "    </tr>\n",
       "    <tr>\n",
       "      <th>730243</th>\n",
       "      <td>2022-12-31 23:20:00</td>\n",
       "      <td>0.0</td>\n",
       "      <td>51.99</td>\n",
       "      <td>NaN</td>\n",
       "      <td>159.116401</td>\n",
       "      <td>23.333333</td>\n",
       "      <td>365.972222</td>\n",
       "      <td>NaN</td>\n",
       "    </tr>\n",
       "    <tr>\n",
       "      <th>730244</th>\n",
       "      <td>2022-12-31 23:30:00</td>\n",
       "      <td>0.0</td>\n",
       "      <td>51.62</td>\n",
       "      <td>NaN</td>\n",
       "      <td>159.782794</td>\n",
       "      <td>23.500000</td>\n",
       "      <td>365.979167</td>\n",
       "      <td>NaN</td>\n",
       "    </tr>\n",
       "    <tr>\n",
       "      <th>730245</th>\n",
       "      <td>2022-12-31 23:40:00</td>\n",
       "      <td>0.0</td>\n",
       "      <td>48.46</td>\n",
       "      <td>NaN</td>\n",
       "      <td>160.252351</td>\n",
       "      <td>23.666667</td>\n",
       "      <td>365.986111</td>\n",
       "      <td>NaN</td>\n",
       "    </tr>\n",
       "    <tr>\n",
       "      <th>730246</th>\n",
       "      <td>2022-12-31 23:50:00</td>\n",
       "      <td>0.0</td>\n",
       "      <td>47.64</td>\n",
       "      <td>NaN</td>\n",
       "      <td>160.510558</td>\n",
       "      <td>23.833333</td>\n",
       "      <td>365.993056</td>\n",
       "      <td>NaN</td>\n",
       "    </tr>\n",
       "  </tbody>\n",
       "</table>\n",
       "<p>730247 rows × 8 columns</p>\n",
       "</div>"
      ],
      "text/plain": [
       "                  TIMESTAMP RS_Std HumR1min_Avg  RS_Avg  zenith_angle_deg  \\\n",
       "0       2009-01-01 00:00:00    NaN        17.19     NaN        160.519214   \n",
       "1       2009-01-01 00:10:00    NaN        15.89     NaN        160.341724   \n",
       "2       2009-01-01 00:20:00    NaN        14.61     NaN        159.949193   \n",
       "3       2009-01-01 00:30:00    NaN        14.95     NaN        159.354097   \n",
       "4       2009-01-01 00:40:00    NaN        13.18     NaN        158.573632   \n",
       "...                     ...    ...          ...     ...               ...   \n",
       "730242  2022-12-31 23:10:00    0.0        53.41     NaN        158.271643   \n",
       "730243  2022-12-31 23:20:00    0.0        51.99     NaN        159.116401   \n",
       "730244  2022-12-31 23:30:00    0.0        51.62     NaN        159.782794   \n",
       "730245  2022-12-31 23:40:00    0.0        48.46     NaN        160.252351   \n",
       "730246  2022-12-31 23:50:00    0.0        47.64     NaN        160.510558   \n",
       "\n",
       "             Hour         Day  kt_10min  \n",
       "0        0.000000    1.000000       NaN  \n",
       "1        0.166667    1.006944       NaN  \n",
       "2        0.333333    1.013889       NaN  \n",
       "3        0.500000    1.020833       NaN  \n",
       "4        0.666667    1.027778       NaN  \n",
       "...           ...         ...       ...  \n",
       "730242  23.166667  365.965278       NaN  \n",
       "730243  23.333333  365.972222       NaN  \n",
       "730244  23.500000  365.979167       NaN  \n",
       "730245  23.666667  365.986111       NaN  \n",
       "730246  23.833333  365.993056       NaN  \n",
       "\n",
       "[730247 rows x 8 columns]"
      ]
     },
     "execution_count": 88,
     "metadata": {},
     "output_type": "execute_result"
    }
   ],
   "source": [
    "pd.read_csv('results_1.csv')"
   ]
  },
  {
   "cell_type": "code",
   "execution_count": 28,
   "id": "31750e46",
   "metadata": {
    "collapsed": true
   },
   "outputs": [
    {
     "data": {
      "text/plain": [
       "0    NaN\n",
       "1    NaN\n",
       "2    NaN\n",
       "3    NaN\n",
       "4    NaN\n",
       "5    NaN\n",
       "6    NaN\n",
       "7    NaN\n",
       "8    NaN\n",
       "9    NaN\n",
       "10   NaN\n",
       "11   NaN\n",
       "12   NaN\n",
       "13   NaN\n",
       "14   NaN\n",
       "15   NaN\n",
       "16   NaN\n",
       "17   NaN\n",
       "18   NaN\n",
       "19   NaN\n",
       "20   NaN\n",
       "21   NaN\n",
       "22   NaN\n",
       "23   NaN\n",
       "24   NaN\n",
       "25   NaN\n",
       "26   NaN\n",
       "27   NaN\n",
       "28   NaN\n",
       "29   NaN\n",
       "30   NaN\n",
       "31   NaN\n",
       "32   NaN\n",
       "33   NaN\n",
       "34   NaN\n",
       "35   NaN\n",
       "36   NaN\n",
       "37   NaN\n",
       "38   NaN\n",
       "39   NaN\n",
       "Name: kt_10min, dtype: float64"
      ]
     },
     "execution_count": 28,
     "metadata": {},
     "output_type": "execute_result"
    }
   ],
   "source": [
    "df['kt_10min'][30:90]\n",
    "df['kt_10min'][:40]"
   ]
  },
  {
   "cell_type": "code",
   "execution_count": 89,
   "id": "6719fd44",
   "metadata": {},
   "outputs": [],
   "source": [
    "df['RS_Avg'] = df['RS_Avg'].astype(float)"
   ]
  },
  {
   "cell_type": "code",
   "execution_count": 5,
   "id": "70ce45f4",
   "metadata": {
    "scrolled": true
   },
   "outputs": [
    {
     "data": {
      "text/plain": [
       "30      0.000\n",
       "31      0.000\n",
       "32      0.000\n",
       "33      0.000\n",
       "34      0.000\n",
       "35      0.000\n",
       "36      0.000\n",
       "37      0.000\n",
       "38      0.000\n",
       "39      0.000\n",
       "40      0.000\n",
       "41      0.000\n",
       "42      0.000\n",
       "43      0.000\n",
       "44      0.000\n",
       "45      1.066\n",
       "46      7.089\n",
       "47     13.630\n",
       "48     20.700\n",
       "49     27.450\n",
       "50     35.130\n",
       "51     43.120\n",
       "52     52.390\n",
       "53     56.690\n",
       "54     65.500\n",
       "55    155.300\n",
       "56    205.100\n",
       "57    227.700\n",
       "58    239.400\n",
       "59    228.000\n",
       "60    250.500\n",
       "61    240.400\n",
       "62    263.400\n",
       "63    295.900\n",
       "64    302.900\n",
       "65    283.800\n",
       "66    283.000\n",
       "67    322.100\n",
       "68    304.700\n",
       "69    344.700\n",
       "70    378.200\n",
       "71    368.600\n",
       "72    365.800\n",
       "73    377.400\n",
       "74    389.200\n",
       "75    427.400\n",
       "76    383.100\n",
       "77    403.200\n",
       "78    344.300\n",
       "79    318.600\n",
       "80    288.300\n",
       "81    237.100\n",
       "82    228.200\n",
       "83    234.300\n",
       "84    209.400\n",
       "85    209.400\n",
       "86    232.000\n",
       "87    225.900\n",
       "88    164.700\n",
       "89    141.900\n",
       "Name: RS_Avg, dtype: float64"
      ]
     },
     "execution_count": 5,
     "metadata": {},
     "output_type": "execute_result"
    }
   ],
   "source": [
    "df['RS_Avg'][30:90] "
   ]
  },
  {
   "cell_type": "code",
   "execution_count": 6,
   "id": "7bb1264b",
   "metadata": {},
   "outputs": [
    {
     "name": "stderr",
     "output_type": "stream",
     "text": [
      "C:\\Users\\T.C\\AppData\\Local\\Temp\\ipykernel_3244\\4106449748.py:1: SettingWithCopyWarning: \n",
      "A value is trying to be set on a copy of a slice from a DataFrame\n",
      "\n",
      "See the caveats in the documentation: https://pandas.pydata.org/pandas-docs/stable/user_guide/indexing.html#returning-a-view-versus-a-copy\n",
      "  df['RS_Avg'][df['zenith_angle_deg']>83] = np.nan\n"
     ]
    }
   ],
   "source": [
    "df['RS_Avg'][df['zenith_angle_deg']>83] = np.nan"
   ]
  },
  {
   "cell_type": "code",
   "execution_count": 7,
   "id": "5628ada3",
   "metadata": {
    "collapsed": true
   },
   "outputs": [
    {
     "data": {
      "text/plain": [
       "30       NaN\n",
       "31       NaN\n",
       "32       NaN\n",
       "33       NaN\n",
       "34       NaN\n",
       "35       NaN\n",
       "36       NaN\n",
       "37       NaN\n",
       "38       NaN\n",
       "39       NaN\n",
       "40       NaN\n",
       "41       NaN\n",
       "42       NaN\n",
       "43       NaN\n",
       "44       NaN\n",
       "45       NaN\n",
       "46       NaN\n",
       "47       NaN\n",
       "48       NaN\n",
       "49       NaN\n",
       "50     35.13\n",
       "51     43.12\n",
       "52     52.39\n",
       "53     56.69\n",
       "54     65.50\n",
       "55    155.30\n",
       "56    205.10\n",
       "57    227.70\n",
       "58    239.40\n",
       "59    228.00\n",
       "60    250.50\n",
       "61    240.40\n",
       "62    263.40\n",
       "63    295.90\n",
       "64    302.90\n",
       "65    283.80\n",
       "66    283.00\n",
       "67    322.10\n",
       "68    304.70\n",
       "69    344.70\n",
       "70    378.20\n",
       "71    368.60\n",
       "72    365.80\n",
       "73    377.40\n",
       "74    389.20\n",
       "75    427.40\n",
       "76    383.10\n",
       "77    403.20\n",
       "78    344.30\n",
       "79    318.60\n",
       "80    288.30\n",
       "81    237.10\n",
       "82    228.20\n",
       "83    234.30\n",
       "84    209.40\n",
       "85    209.40\n",
       "86    232.00\n",
       "87    225.90\n",
       "88    164.70\n",
       "89    141.90\n",
       "Name: RS_Avg, dtype: float64"
      ]
     },
     "execution_count": 7,
     "metadata": {},
     "output_type": "execute_result"
    }
   ],
   "source": [
    "df['RS_Avg'][30:90] "
   ]
  },
  {
   "cell_type": "code",
   "execution_count": 8,
   "id": "9206fe29",
   "metadata": {},
   "outputs": [
    {
     "data": {
      "text/plain": [
       "30    115.543016\n",
       "31    113.724154\n",
       "32    111.914036\n",
       "33    110.113925\n",
       "34    108.325085\n",
       "         ...    \n",
       "95     84.564919\n",
       "96     86.030586\n",
       "97     87.529954\n",
       "98     89.061051\n",
       "99     90.621982\n",
       "Name: zenith_angle_deg, Length: 70, dtype: float64"
      ]
     },
     "execution_count": 8,
     "metadata": {},
     "output_type": "execute_result"
    }
   ],
   "source": [
    "df['zenith_angle_deg'][30:100]"
   ]
  },
  {
   "cell_type": "code",
   "execution_count": 108,
   "id": "b005c311",
   "metadata": {},
   "outputs": [],
   "source": [
    "G0 = 1367 # Wm-2\n",
    "lat_cancer = m.radians(23+45/60)\n",
    "lat_rad = m.radians(41.48)\n",
    "lat = lat_rad\n",
    "\n",
    "#doy....\n",
    "#hora...\n",
    "\n",
    "hangle1 = 15*(df['Hour']- 1/6 - 12)*(np.pi/180)\n",
    "hangle2 = 15*(df['Hour'] - 12)*(np.pi/180)\n",
    "sol_decl_angle = lat_cancer*np.sin(2*np.pi*(df['Day'] + 284)/365)\n",
    "gamma = 2*np.pi*(df['Day']-1)/365\n",
    "E0 = 1.000110 + 0.034221*np.cos(gamma) + 0.001280*np.sin(gamma) + 0.000719*np.cos(2*gamma) + 0.000077*np.sin(2*gamma)\n",
    "\n",
    "C = (np.sin(hangle2) - np.sin(hangle1))*np.cos(lat)*np.cos(sol_decl_angle) +\\\n",
    "(np.pi/72)*np.sin(lat)*np.sin(sol_decl_angle)\n",
    "\n",
    "S0 = 86400*G0*E0*C/(2*np.pi)"
   ]
  },
  {
   "cell_type": "code",
   "execution_count": null,
   "id": "e0834b4e",
   "metadata": {},
   "outputs": [],
   "source": []
  },
  {
   "cell_type": "code",
   "execution_count": null,
   "id": "2375ef9f",
   "metadata": {},
   "outputs": [],
   "source": []
  },
  {
   "cell_type": "code",
   "execution_count": 109,
   "id": "8ee37ec4",
   "metadata": {},
   "outputs": [
    {
     "data": {
      "text/plain": [
       "0        -806411.925377\n",
       "1        -806409.532004\n",
       "2        -805295.565666\n",
       "3        -803072.128041\n",
       "4        -799743.432761\n",
       "              ...      \n",
       "730242   -789824.739159\n",
       "730243   -795337.764195\n",
       "730244   -799760.385623\n",
       "730245   -803084.166133\n",
       "730246   -805302.760038\n",
       "Length: 730247, dtype: float64"
      ]
     },
     "execution_count": 109,
     "metadata": {},
     "output_type": "execute_result"
    }
   ],
   "source": [
    "S0"
   ]
  },
  {
   "cell_type": "code",
   "execution_count": 110,
   "id": "686ae183",
   "metadata": {},
   "outputs": [],
   "source": [
    "S0[S0 < 0 ] = np.nan"
   ]
  },
  {
   "cell_type": "code",
   "execution_count": 92,
   "id": "949b0019",
   "metadata": {},
   "outputs": [],
   "source": [
    "df[df['RS_Avg']<0 ]=np.nan"
   ]
  },
  {
   "cell_type": "code",
   "execution_count": 179,
   "id": "83ae3ee0",
   "metadata": {},
   "outputs": [],
   "source": [
    "lst1 = df['RS_Avg'] \n",
    "lst1 = np.array(lst1)"
   ]
  },
  {
   "cell_type": "code",
   "execution_count": 93,
   "id": "6b3ff88b",
   "metadata": {},
   "outputs": [
    {
     "data": {
      "text/plain": [
       "675040.944936096"
      ]
     },
     "execution_count": 93,
     "metadata": {},
     "output_type": "execute_result"
    }
   ],
   "source": [
    "S0[22543]"
   ]
  },
  {
   "cell_type": "code",
   "execution_count": 180,
   "id": "d124d577",
   "metadata": {},
   "outputs": [
    {
     "data": {
      "text/plain": [
       "(array([], dtype=int64),)"
      ]
     },
     "execution_count": 180,
     "metadata": {},
     "output_type": "execute_result"
    }
   ],
   "source": [
    "np.where(lst1 <0)"
   ]
  },
  {
   "cell_type": "code",
   "execution_count": 51,
   "id": "023e66db",
   "metadata": {},
   "outputs": [],
   "source": [
    "df['TIMESTAMP']  = pd.to_datetime(df['TIMESTAMP'])"
   ]
  },
  {
   "cell_type": "code",
   "execution_count": null,
   "id": "1d1f09df",
   "metadata": {},
   "outputs": [],
   "source": []
  },
  {
   "cell_type": "code",
   "execution_count": 78,
   "id": "c47984aa",
   "metadata": {},
   "outputs": [
    {
     "name": "stderr",
     "output_type": "stream",
     "text": [
      "C:\\Users\\T.C\\AppData\\Local\\Temp\\ipykernel_3244\\1057316088.py:1: DtypeWarning: Columns (1,2) have mixed types. Specify dtype option on import or set low_memory=False.\n",
      "  a = pd.read_csv('results_1.csv', index_col=0, parse_dates=True, infer_datetime_format=True)\n"
     ]
    }
   ],
   "source": [
    "a = pd.read_csv('results_1.csv', index_col=0, parse_dates=True, infer_datetime_format=True)"
   ]
  },
  {
   "cell_type": "code",
   "execution_count": 55,
   "id": "cdaf7b79",
   "metadata": {},
   "outputs": [],
   "source": [
    "b = a[::-1]"
   ]
  },
  {
   "cell_type": "code",
   "execution_count": 82,
   "id": "f2cf7ccf",
   "metadata": {},
   "outputs": [
    {
     "data": {
      "text/html": [
       "<div>\n",
       "<style scoped>\n",
       "    .dataframe tbody tr th:only-of-type {\n",
       "        vertical-align: middle;\n",
       "    }\n",
       "\n",
       "    .dataframe tbody tr th {\n",
       "        vertical-align: top;\n",
       "    }\n",
       "\n",
       "    .dataframe thead th {\n",
       "        text-align: right;\n",
       "    }\n",
       "</style>\n",
       "<table border=\"1\" class=\"dataframe\">\n",
       "  <thead>\n",
       "    <tr style=\"text-align: right;\">\n",
       "      <th></th>\n",
       "      <th>RS_Std</th>\n",
       "      <th>HumR1min_Avg</th>\n",
       "      <th>RS_Avg</th>\n",
       "      <th>zenith_angle_deg</th>\n",
       "      <th>Hour</th>\n",
       "      <th>Day</th>\n",
       "      <th>kt_10min</th>\n",
       "    </tr>\n",
       "    <tr>\n",
       "      <th>TIMESTAMP</th>\n",
       "      <th></th>\n",
       "      <th></th>\n",
       "      <th></th>\n",
       "      <th></th>\n",
       "      <th></th>\n",
       "      <th></th>\n",
       "      <th></th>\n",
       "    </tr>\n",
       "  </thead>\n",
       "  <tbody>\n",
       "    <tr>\n",
       "      <th>2009-06-06 11:40:00</th>\n",
       "      <td>NaN</td>\n",
       "      <td>83.8</td>\n",
       "      <td>437.2</td>\n",
       "      <td>19.951514</td>\n",
       "      <td>11.666667</td>\n",
       "      <td>6.486111</td>\n",
       "      <td>0.718167</td>\n",
       "    </tr>\n",
       "    <tr>\n",
       "      <th>2009-06-06 11:50:00</th>\n",
       "      <td>NaN</td>\n",
       "      <td>86.2</td>\n",
       "      <td>493.7</td>\n",
       "      <td>19.792440</td>\n",
       "      <td>11.833333</td>\n",
       "      <td>6.493056</td>\n",
       "      <td>0.806032</td>\n",
       "    </tr>\n",
       "    <tr>\n",
       "      <th>2009-06-06 12:00:00</th>\n",
       "      <td>NaN</td>\n",
       "      <td>85.8</td>\n",
       "      <td>843.0</td>\n",
       "      <td>19.851778</td>\n",
       "      <td>12.000000</td>\n",
       "      <td>6.500000</td>\n",
       "      <td>1.372106</td>\n",
       "    </tr>\n",
       "    <tr>\n",
       "      <th>2009-06-06 12:10:00</th>\n",
       "      <td>NaN</td>\n",
       "      <td>86.2</td>\n",
       "      <td>758.4</td>\n",
       "      <td>20.127557</td>\n",
       "      <td>12.166667</td>\n",
       "      <td>6.506944</td>\n",
       "      <td>1.234371</td>\n",
       "    </tr>\n",
       "    <tr>\n",
       "      <th>2009-06-06 12:20:00</th>\n",
       "      <td>NaN</td>\n",
       "      <td>85.6</td>\n",
       "      <td>510.7</td>\n",
       "      <td>20.610933</td>\n",
       "      <td>12.333333</td>\n",
       "      <td>6.513889</td>\n",
       "      <td>0.833714</td>\n",
       "    </tr>\n",
       "    <tr>\n",
       "      <th>2009-06-06 12:30:00</th>\n",
       "      <td>NaN</td>\n",
       "      <td>87.1</td>\n",
       "      <td>318.0</td>\n",
       "      <td>21.287501</td>\n",
       "      <td>12.500000</td>\n",
       "      <td>6.520833</td>\n",
       "      <td>0.522286</td>\n",
       "    </tr>\n",
       "    <tr>\n",
       "      <th>2009-06-06 12:40:00</th>\n",
       "      <td>NaN</td>\n",
       "      <td>86.8</td>\n",
       "      <td>505.3</td>\n",
       "      <td>22.139182</td>\n",
       "      <td>12.666667</td>\n",
       "      <td>6.527778</td>\n",
       "      <td>0.837542</td>\n",
       "    </tr>\n",
       "    <tr>\n",
       "      <th>2009-06-06 12:50:00</th>\n",
       "      <td>NaN</td>\n",
       "      <td>84.7</td>\n",
       "      <td>790.7</td>\n",
       "      <td>23.146189</td>\n",
       "      <td>12.833333</td>\n",
       "      <td>6.534722</td>\n",
       "      <td>1.326842</td>\n",
       "    </tr>\n",
       "    <tr>\n",
       "      <th>2009-06-06 13:00:00</th>\n",
       "      <td>NaN</td>\n",
       "      <td>82.6</td>\n",
       "      <td>526.1</td>\n",
       "      <td>24.288658</td>\n",
       "      <td>13.000000</td>\n",
       "      <td>6.541667</td>\n",
       "      <td>0.896688</td>\n",
       "    </tr>\n",
       "    <tr>\n",
       "      <th>2009-06-06 13:10:00</th>\n",
       "      <td>NaN</td>\n",
       "      <td>84.8</td>\n",
       "      <td>587.0</td>\n",
       "      <td>25.547798</td>\n",
       "      <td>13.166667</td>\n",
       "      <td>6.548611</td>\n",
       "      <td>1.019635</td>\n",
       "    </tr>\n",
       "    <tr>\n",
       "      <th>2009-06-06 13:20:00</th>\n",
       "      <td>NaN</td>\n",
       "      <td>87.7</td>\n",
       "      <td>205.0</td>\n",
       "      <td>26.906539</td>\n",
       "      <td>13.333333</td>\n",
       "      <td>6.555556</td>\n",
       "      <td>0.364191</td>\n",
       "    </tr>\n",
       "    <tr>\n",
       "      <th>2009-06-06 13:30:00</th>\n",
       "      <td>NaN</td>\n",
       "      <td>91.1</td>\n",
       "      <td>196.5</td>\n",
       "      <td>28.349809</td>\n",
       "      <td>13.500000</td>\n",
       "      <td>6.562500</td>\n",
       "      <td>0.358365</td>\n",
       "    </tr>\n",
       "    <tr>\n",
       "      <th>2009-06-06 13:40:00</th>\n",
       "      <td>NaN</td>\n",
       "      <td>92.4</td>\n",
       "      <td>320.8</td>\n",
       "      <td>29.864544</td>\n",
       "      <td>13.666667</td>\n",
       "      <td>6.569444</td>\n",
       "      <td>0.602982</td>\n",
       "    </tr>\n",
       "    <tr>\n",
       "      <th>2009-06-06 13:50:00</th>\n",
       "      <td>NaN</td>\n",
       "      <td>91.2</td>\n",
       "      <td>923.0</td>\n",
       "      <td>31.439552</td>\n",
       "      <td>13.833333</td>\n",
       "      <td>6.576389</td>\n",
       "      <td>1.795655</td>\n",
       "    </tr>\n",
       "    <tr>\n",
       "      <th>2009-06-06 14:00:00</th>\n",
       "      <td>NaN</td>\n",
       "      <td>81.7</td>\n",
       "      <td>744.1</td>\n",
       "      <td>33.065310</td>\n",
       "      <td>14.000000</td>\n",
       "      <td>6.583333</td>\n",
       "      <td>1.505223</td>\n",
       "    </tr>\n",
       "    <tr>\n",
       "      <th>2009-06-06 14:10:00</th>\n",
       "      <td>NaN</td>\n",
       "      <td>78.83</td>\n",
       "      <td>856.0</td>\n",
       "      <td>34.733736</td>\n",
       "      <td>14.166667</td>\n",
       "      <td>6.590278</td>\n",
       "      <td>1.809568</td>\n",
       "    </tr>\n",
       "    <tr>\n",
       "      <th>2009-06-06 14:20:00</th>\n",
       "      <td>NaN</td>\n",
       "      <td>77.61</td>\n",
       "      <td>756.7</td>\n",
       "      <td>36.437967</td>\n",
       "      <td>14.333333</td>\n",
       "      <td>6.597222</td>\n",
       "      <td>1.681011</td>\n",
       "    </tr>\n",
       "    <tr>\n",
       "      <th>2009-06-06 14:30:00</th>\n",
       "      <td>NaN</td>\n",
       "      <td>80.6</td>\n",
       "      <td>486.3</td>\n",
       "      <td>38.172167</td>\n",
       "      <td>14.500000</td>\n",
       "      <td>6.604167</td>\n",
       "      <td>1.142345</td>\n",
       "    </tr>\n",
       "    <tr>\n",
       "      <th>2009-06-06 14:40:00</th>\n",
       "      <td>NaN</td>\n",
       "      <td>79.84</td>\n",
       "      <td>376.0</td>\n",
       "      <td>39.931345</td>\n",
       "      <td>14.666667</td>\n",
       "      <td>6.611111</td>\n",
       "      <td>0.940564</td>\n",
       "    </tr>\n",
       "    <tr>\n",
       "      <th>2009-06-06 14:50:00</th>\n",
       "      <td>NaN</td>\n",
       "      <td>83.7</td>\n",
       "      <td>202.8</td>\n",
       "      <td>41.711216</td>\n",
       "      <td>14.833333</td>\n",
       "      <td>6.618056</td>\n",
       "      <td>0.544626</td>\n",
       "    </tr>\n",
       "    <tr>\n",
       "      <th>2009-06-06 15:00:00</th>\n",
       "      <td>NaN</td>\n",
       "      <td>88.8</td>\n",
       "      <td>351.5</td>\n",
       "      <td>43.508074</td>\n",
       "      <td>15.000000</td>\n",
       "      <td>6.625000</td>\n",
       "      <td>1.023076</td>\n",
       "    </tr>\n",
       "    <tr>\n",
       "      <th>2009-06-06 15:10:00</th>\n",
       "      <td>NaN</td>\n",
       "      <td>85.9</td>\n",
       "      <td>298.3</td>\n",
       "      <td>45.318689</td>\n",
       "      <td>15.166667</td>\n",
       "      <td>6.631944</td>\n",
       "      <td>0.951716</td>\n",
       "    </tr>\n",
       "    <tr>\n",
       "      <th>2009-06-06 15:20:00</th>\n",
       "      <td>NaN</td>\n",
       "      <td>82.8</td>\n",
       "      <td>330.2</td>\n",
       "      <td>47.140227</td>\n",
       "      <td>15.333333</td>\n",
       "      <td>6.638889</td>\n",
       "      <td>1.170886</td>\n",
       "    </tr>\n",
       "    <tr>\n",
       "      <th>2009-06-06 15:30:00</th>\n",
       "      <td>NaN</td>\n",
       "      <td>80.6</td>\n",
       "      <td>781.6</td>\n",
       "      <td>48.970173</td>\n",
       "      <td>15.500000</td>\n",
       "      <td>6.645833</td>\n",
       "      <td>3.134467</td>\n",
       "    </tr>\n",
       "    <tr>\n",
       "      <th>2009-06-06 15:40:00</th>\n",
       "      <td>NaN</td>\n",
       "      <td>75.99</td>\n",
       "      <td>695.0</td>\n",
       "      <td>50.806280</td>\n",
       "      <td>15.666667</td>\n",
       "      <td>6.652778</td>\n",
       "      <td>3.224468</td>\n",
       "    </tr>\n",
       "    <tr>\n",
       "      <th>2009-06-06 15:50:00</th>\n",
       "      <td>NaN</td>\n",
       "      <td>75.15</td>\n",
       "      <td>496.6</td>\n",
       "      <td>52.646520</td>\n",
       "      <td>15.833333</td>\n",
       "      <td>6.659722</td>\n",
       "      <td>2.749392</td>\n",
       "    </tr>\n",
       "    <tr>\n",
       "      <th>2009-06-06 16:00:00</th>\n",
       "      <td>NaN</td>\n",
       "      <td>77.86</td>\n",
       "      <td>286.4</td>\n",
       "      <td>54.489040</td>\n",
       "      <td>16.000000</td>\n",
       "      <td>6.666667</td>\n",
       "      <td>1.979678</td>\n",
       "    </tr>\n",
       "    <tr>\n",
       "      <th>2009-06-06 16:10:00</th>\n",
       "      <td>NaN</td>\n",
       "      <td>81.4</td>\n",
       "      <td>205.2</td>\n",
       "      <td>56.332134</td>\n",
       "      <td>16.166667</td>\n",
       "      <td>6.673611</td>\n",
       "      <td>1.904364</td>\n",
       "    </tr>\n",
       "    <tr>\n",
       "      <th>2009-06-06 16:20:00</th>\n",
       "      <td>NaN</td>\n",
       "      <td>79.9</td>\n",
       "      <td>521.0</td>\n",
       "      <td>58.174213</td>\n",
       "      <td>16.333333</td>\n",
       "      <td>6.680556</td>\n",
       "      <td>7.449276</td>\n",
       "    </tr>\n",
       "    <tr>\n",
       "      <th>2009-06-06 16:30:00</th>\n",
       "      <td>NaN</td>\n",
       "      <td>78.59</td>\n",
       "      <td>261.3</td>\n",
       "      <td>60.013782</td>\n",
       "      <td>16.500000</td>\n",
       "      <td>6.687500</td>\n",
       "      <td>8.347317</td>\n",
       "    </tr>\n",
       "  </tbody>\n",
       "</table>\n",
       "</div>"
      ],
      "text/plain": [
       "                    RS_Std HumR1min_Avg  RS_Avg  zenith_angle_deg       Hour  \\\n",
       "TIMESTAMP                                                                      \n",
       "2009-06-06 11:40:00    NaN         83.8   437.2         19.951514  11.666667   \n",
       "2009-06-06 11:50:00    NaN         86.2   493.7         19.792440  11.833333   \n",
       "2009-06-06 12:00:00    NaN         85.8   843.0         19.851778  12.000000   \n",
       "2009-06-06 12:10:00    NaN         86.2   758.4         20.127557  12.166667   \n",
       "2009-06-06 12:20:00    NaN         85.6   510.7         20.610933  12.333333   \n",
       "2009-06-06 12:30:00    NaN         87.1   318.0         21.287501  12.500000   \n",
       "2009-06-06 12:40:00    NaN         86.8   505.3         22.139182  12.666667   \n",
       "2009-06-06 12:50:00    NaN         84.7   790.7         23.146189  12.833333   \n",
       "2009-06-06 13:00:00    NaN         82.6   526.1         24.288658  13.000000   \n",
       "2009-06-06 13:10:00    NaN         84.8   587.0         25.547798  13.166667   \n",
       "2009-06-06 13:20:00    NaN         87.7   205.0         26.906539  13.333333   \n",
       "2009-06-06 13:30:00    NaN         91.1   196.5         28.349809  13.500000   \n",
       "2009-06-06 13:40:00    NaN         92.4   320.8         29.864544  13.666667   \n",
       "2009-06-06 13:50:00    NaN         91.2   923.0         31.439552  13.833333   \n",
       "2009-06-06 14:00:00    NaN         81.7   744.1         33.065310  14.000000   \n",
       "2009-06-06 14:10:00    NaN        78.83   856.0         34.733736  14.166667   \n",
       "2009-06-06 14:20:00    NaN        77.61   756.7         36.437967  14.333333   \n",
       "2009-06-06 14:30:00    NaN         80.6   486.3         38.172167  14.500000   \n",
       "2009-06-06 14:40:00    NaN        79.84   376.0         39.931345  14.666667   \n",
       "2009-06-06 14:50:00    NaN         83.7   202.8         41.711216  14.833333   \n",
       "2009-06-06 15:00:00    NaN         88.8   351.5         43.508074  15.000000   \n",
       "2009-06-06 15:10:00    NaN         85.9   298.3         45.318689  15.166667   \n",
       "2009-06-06 15:20:00    NaN         82.8   330.2         47.140227  15.333333   \n",
       "2009-06-06 15:30:00    NaN         80.6   781.6         48.970173  15.500000   \n",
       "2009-06-06 15:40:00    NaN        75.99   695.0         50.806280  15.666667   \n",
       "2009-06-06 15:50:00    NaN        75.15   496.6         52.646520  15.833333   \n",
       "2009-06-06 16:00:00    NaN        77.86   286.4         54.489040  16.000000   \n",
       "2009-06-06 16:10:00    NaN         81.4   205.2         56.332134  16.166667   \n",
       "2009-06-06 16:20:00    NaN         79.9   521.0         58.174213  16.333333   \n",
       "2009-06-06 16:30:00    NaN        78.59   261.3         60.013782  16.500000   \n",
       "\n",
       "                          Day  kt_10min  \n",
       "TIMESTAMP                                \n",
       "2009-06-06 11:40:00  6.486111  0.718167  \n",
       "2009-06-06 11:50:00  6.493056  0.806032  \n",
       "2009-06-06 12:00:00  6.500000  1.372106  \n",
       "2009-06-06 12:10:00  6.506944  1.234371  \n",
       "2009-06-06 12:20:00  6.513889  0.833714  \n",
       "2009-06-06 12:30:00  6.520833  0.522286  \n",
       "2009-06-06 12:40:00  6.527778  0.837542  \n",
       "2009-06-06 12:50:00  6.534722  1.326842  \n",
       "2009-06-06 13:00:00  6.541667  0.896688  \n",
       "2009-06-06 13:10:00  6.548611  1.019635  \n",
       "2009-06-06 13:20:00  6.555556  0.364191  \n",
       "2009-06-06 13:30:00  6.562500  0.358365  \n",
       "2009-06-06 13:40:00  6.569444  0.602982  \n",
       "2009-06-06 13:50:00  6.576389  1.795655  \n",
       "2009-06-06 14:00:00  6.583333  1.505223  \n",
       "2009-06-06 14:10:00  6.590278  1.809568  \n",
       "2009-06-06 14:20:00  6.597222  1.681011  \n",
       "2009-06-06 14:30:00  6.604167  1.142345  \n",
       "2009-06-06 14:40:00  6.611111  0.940564  \n",
       "2009-06-06 14:50:00  6.618056  0.544626  \n",
       "2009-06-06 15:00:00  6.625000  1.023076  \n",
       "2009-06-06 15:10:00  6.631944  0.951716  \n",
       "2009-06-06 15:20:00  6.638889  1.170886  \n",
       "2009-06-06 15:30:00  6.645833  3.134467  \n",
       "2009-06-06 15:40:00  6.652778  3.224468  \n",
       "2009-06-06 15:50:00  6.659722  2.749392  \n",
       "2009-06-06 16:00:00  6.666667  1.979678  \n",
       "2009-06-06 16:10:00  6.673611  1.904364  \n",
       "2009-06-06 16:20:00  6.680556  7.449276  \n",
       "2009-06-06 16:30:00  6.687500  8.347317  "
      ]
     },
     "execution_count": 82,
     "metadata": {},
     "output_type": "execute_result"
    }
   ],
   "source": [
    "a.loc['2009-06-06'][70:100]"
   ]
  },
  {
   "cell_type": "code",
   "execution_count": 67,
   "id": "7bb2e682",
   "metadata": {},
   "outputs": [
    {
     "name": "stderr",
     "output_type": "stream",
     "text": [
      "C:\\Users\\T.C\\AppData\\Local\\Temp\\ipykernel_3244\\983198295.py:1: FutureWarning: Indexing a DataFrame with a datetimelike index using a single string to slice the rows, like `frame[string]`, is deprecated and will be removed in a future version. Use `frame.loc[string]` instead.\n",
      "  b['2009-06-06']#[50:100]\n"
     ]
    },
    {
     "data": {
      "text/html": [
       "<div>\n",
       "<style scoped>\n",
       "    .dataframe tbody tr th:only-of-type {\n",
       "        vertical-align: middle;\n",
       "    }\n",
       "\n",
       "    .dataframe tbody tr th {\n",
       "        vertical-align: top;\n",
       "    }\n",
       "\n",
       "    .dataframe thead th {\n",
       "        text-align: right;\n",
       "    }\n",
       "</style>\n",
       "<table border=\"1\" class=\"dataframe\">\n",
       "  <thead>\n",
       "    <tr style=\"text-align: right;\">\n",
       "      <th></th>\n",
       "      <th>RS_Std</th>\n",
       "      <th>HumR1min_Avg</th>\n",
       "      <th>RS_Avg</th>\n",
       "      <th>zenith_angle_deg</th>\n",
       "      <th>Hour</th>\n",
       "      <th>Day</th>\n",
       "      <th>kt_10min</th>\n",
       "    </tr>\n",
       "    <tr>\n",
       "      <th>TIMESTAMP</th>\n",
       "      <th></th>\n",
       "      <th></th>\n",
       "      <th></th>\n",
       "      <th></th>\n",
       "      <th></th>\n",
       "      <th></th>\n",
       "      <th></th>\n",
       "    </tr>\n",
       "  </thead>\n",
       "  <tbody>\n",
       "    <tr>\n",
       "      <th>2009-06-06 23:50:00</th>\n",
       "      <td>NaN</td>\n",
       "      <td>86.6</td>\n",
       "      <td>NaN</td>\n",
       "      <td>114.776604</td>\n",
       "      <td>23.833333</td>\n",
       "      <td>6.993056</td>\n",
       "      <td>NaN</td>\n",
       "    </tr>\n",
       "    <tr>\n",
       "      <th>2009-06-06 23:40:00</th>\n",
       "      <td>NaN</td>\n",
       "      <td>87.4</td>\n",
       "      <td>NaN</td>\n",
       "      <td>114.717278</td>\n",
       "      <td>23.666667</td>\n",
       "      <td>6.986111</td>\n",
       "      <td>NaN</td>\n",
       "    </tr>\n",
       "    <tr>\n",
       "      <th>2009-06-06 23:30:00</th>\n",
       "      <td>NaN</td>\n",
       "      <td>87.7</td>\n",
       "      <td>NaN</td>\n",
       "      <td>114.576522</td>\n",
       "      <td>23.500000</td>\n",
       "      <td>6.979167</td>\n",
       "      <td>NaN</td>\n",
       "    </tr>\n",
       "    <tr>\n",
       "      <th>2009-06-06 23:20:00</th>\n",
       "      <td>NaN</td>\n",
       "      <td>87.5</td>\n",
       "      <td>NaN</td>\n",
       "      <td>114.354876</td>\n",
       "      <td>23.333333</td>\n",
       "      <td>6.972222</td>\n",
       "      <td>NaN</td>\n",
       "    </tr>\n",
       "    <tr>\n",
       "      <th>2009-06-06 23:10:00</th>\n",
       "      <td>NaN</td>\n",
       "      <td>88.7</td>\n",
       "      <td>NaN</td>\n",
       "      <td>114.053182</td>\n",
       "      <td>23.166667</td>\n",
       "      <td>6.965278</td>\n",
       "      <td>NaN</td>\n",
       "    </tr>\n",
       "    <tr>\n",
       "      <th>...</th>\n",
       "      <td>...</td>\n",
       "      <td>...</td>\n",
       "      <td>...</td>\n",
       "      <td>...</td>\n",
       "      <td>...</td>\n",
       "      <td>...</td>\n",
       "      <td>...</td>\n",
       "    </tr>\n",
       "    <tr>\n",
       "      <th>2009-06-06 00:40:00</th>\n",
       "      <td>NaN</td>\n",
       "      <td>88.9</td>\n",
       "      <td>NaN</td>\n",
       "      <td>113.946488</td>\n",
       "      <td>0.666667</td>\n",
       "      <td>6.027778</td>\n",
       "      <td>NaN</td>\n",
       "    </tr>\n",
       "    <tr>\n",
       "      <th>2009-06-06 00:30:00</th>\n",
       "      <td>NaN</td>\n",
       "      <td>87.2</td>\n",
       "      <td>NaN</td>\n",
       "      <td>114.293503</td>\n",
       "      <td>0.500000</td>\n",
       "      <td>6.020833</td>\n",
       "      <td>NaN</td>\n",
       "    </tr>\n",
       "    <tr>\n",
       "      <th>2009-06-06 00:20:00</th>\n",
       "      <td>NaN</td>\n",
       "      <td>83.4</td>\n",
       "      <td>NaN</td>\n",
       "      <td>114.560959</td>\n",
       "      <td>0.333333</td>\n",
       "      <td>6.013889</td>\n",
       "      <td>NaN</td>\n",
       "    </tr>\n",
       "    <tr>\n",
       "      <th>2009-06-06 00:10:00</th>\n",
       "      <td>NaN</td>\n",
       "      <td>80.8</td>\n",
       "      <td>NaN</td>\n",
       "      <td>114.747844</td>\n",
       "      <td>0.166667</td>\n",
       "      <td>6.006944</td>\n",
       "      <td>NaN</td>\n",
       "    </tr>\n",
       "    <tr>\n",
       "      <th>2009-06-06 00:00:00</th>\n",
       "      <td>NaN</td>\n",
       "      <td>80.8</td>\n",
       "      <td>NaN</td>\n",
       "      <td>114.853442</td>\n",
       "      <td>0.000000</td>\n",
       "      <td>6.000000</td>\n",
       "      <td>NaN</td>\n",
       "    </tr>\n",
       "  </tbody>\n",
       "</table>\n",
       "<p>144 rows × 7 columns</p>\n",
       "</div>"
      ],
      "text/plain": [
       "                    RS_Std HumR1min_Avg  RS_Avg  zenith_angle_deg       Hour  \\\n",
       "TIMESTAMP                                                                      \n",
       "2009-06-06 23:50:00    NaN         86.6     NaN        114.776604  23.833333   \n",
       "2009-06-06 23:40:00    NaN         87.4     NaN        114.717278  23.666667   \n",
       "2009-06-06 23:30:00    NaN         87.7     NaN        114.576522  23.500000   \n",
       "2009-06-06 23:20:00    NaN         87.5     NaN        114.354876  23.333333   \n",
       "2009-06-06 23:10:00    NaN         88.7     NaN        114.053182  23.166667   \n",
       "...                    ...          ...     ...               ...        ...   \n",
       "2009-06-06 00:40:00    NaN         88.9     NaN        113.946488   0.666667   \n",
       "2009-06-06 00:30:00    NaN         87.2     NaN        114.293503   0.500000   \n",
       "2009-06-06 00:20:00    NaN         83.4     NaN        114.560959   0.333333   \n",
       "2009-06-06 00:10:00    NaN         80.8     NaN        114.747844   0.166667   \n",
       "2009-06-06 00:00:00    NaN         80.8     NaN        114.853442   0.000000   \n",
       "\n",
       "                          Day  kt_10min  \n",
       "TIMESTAMP                                \n",
       "2009-06-06 23:50:00  6.993056       NaN  \n",
       "2009-06-06 23:40:00  6.986111       NaN  \n",
       "2009-06-06 23:30:00  6.979167       NaN  \n",
       "2009-06-06 23:20:00  6.972222       NaN  \n",
       "2009-06-06 23:10:00  6.965278       NaN  \n",
       "...                       ...       ...  \n",
       "2009-06-06 00:40:00  6.027778       NaN  \n",
       "2009-06-06 00:30:00  6.020833       NaN  \n",
       "2009-06-06 00:20:00  6.013889       NaN  \n",
       "2009-06-06 00:10:00  6.006944       NaN  \n",
       "2009-06-06 00:00:00  6.000000       NaN  \n",
       "\n",
       "[144 rows x 7 columns]"
      ]
     },
     "execution_count": 67,
     "metadata": {},
     "output_type": "execute_result"
    }
   ],
   "source": [
    "b['2009-06-06']#[50:100]"
   ]
  },
  {
   "cell_type": "code",
   "execution_count": 119,
   "id": "a68908c4",
   "metadata": {},
   "outputs": [
    {
     "data": {
      "text/plain": [
       "28000    2009-07-14 16:30:00\n",
       "28001    2009-07-14 16:40:00\n",
       "28002    2009-07-14 16:50:00\n",
       "28003    2009-07-14 17:00:00\n",
       "28004    2009-07-14 17:10:00\n",
       "                ...         \n",
       "49995    2009-12-14 09:20:00\n",
       "49996    2009-12-14 09:30:00\n",
       "49997    2009-12-14 09:40:00\n",
       "49998    2009-12-14 09:50:00\n",
       "49999    2009-12-14 10:00:00\n",
       "Name: TIMESTAMP, Length: 22000, dtype: object"
      ]
     },
     "execution_count": 119,
     "metadata": {},
     "output_type": "execute_result"
    }
   ],
   "source": [
    "df['TIMESTAMP'][29000:45000]"
   ]
  },
  {
   "cell_type": "code",
   "execution_count": null,
   "id": "95c0fdca",
   "metadata": {},
   "outputs": [],
   "source": []
  },
  {
   "cell_type": "code",
   "execution_count": null,
   "id": "28969624",
   "metadata": {},
   "outputs": [],
   "source": []
  },
  {
   "cell_type": "code",
   "execution_count": null,
   "id": "bc1975c4",
   "metadata": {},
   "outputs": [],
   "source": []
  },
  {
   "cell_type": "code",
   "execution_count": 94,
   "id": "561b4573",
   "metadata": {},
   "outputs": [
    {
     "data": {
      "text/plain": [
       "0        NaN\n",
       "1        NaN\n",
       "2        NaN\n",
       "3        NaN\n",
       "4        NaN\n",
       "          ..\n",
       "730242   NaN\n",
       "730243   NaN\n",
       "730244   NaN\n",
       "730245   NaN\n",
       "730246   NaN\n",
       "Length: 730247, dtype: float64"
      ]
     },
     "execution_count": 94,
     "metadata": {},
     "output_type": "execute_result"
    }
   ],
   "source": [
    "kt= 600*df['RS_Avg']/S0\n",
    "kt"
   ]
  },
  {
   "cell_type": "code",
   "execution_count": 95,
   "id": "35b1e44e",
   "metadata": {
    "scrolled": true
   },
   "outputs": [],
   "source": [
    "df['kt_10min'] = 600*df['RS_Avg']/S0\n",
    "df.to_csv('results_1.csv', index=False)"
   ]
  },
  {
   "cell_type": "code",
   "execution_count": 182,
   "id": "1232204a",
   "metadata": {},
   "outputs": [
    {
     "data": {
      "text/plain": [
       "(array([  5283,   5427,   5570, ..., 723509, 723653, 723797], dtype=int64),)"
      ]
     },
     "execution_count": 182,
     "metadata": {},
     "output_type": "execute_result"
    }
   ],
   "source": [
    "np.where(kt>2)"
   ]
  },
  {
   "cell_type": "code",
   "execution_count": 112,
   "id": "ffb0577f",
   "metadata": {},
   "outputs": [
    {
     "data": {
      "text/plain": [
       "[<matplotlib.lines.Line2D at 0x1279c9f4880>]"
      ]
     },
     "execution_count": 112,
     "metadata": {},
     "output_type": "execute_result"
    },
    {
     "data": {
      "image/png": "[encoded data removed]",
      "text/plain": [
       "<Figure size 640x480 with 1 Axes>"
      ]
     },
     "metadata": {},
     "output_type": "display_data"
    }
   ],
   "source": [
    "plt.plot(kt[:100000])"
   ]
  },
  {
   "cell_type": "code",
   "execution_count": 124,
   "id": "a5c64a99",
   "metadata": {},
   "outputs": [
    {
     "data": {
      "text/plain": [
       "[<matplotlib.lines.Line2D at 0x1279a3f7be0>]"
      ]
     },
     "execution_count": 124,
     "metadata": {},
     "output_type": "execute_result"
    },
    {
     "data": {
      "image/png": "[encoded data removed]",
      "text/plain": [
       "<Figure size 640x480 with 1 Axes>"
      ]
     },
     "metadata": {},
     "output_type": "display_data"
    }
   ],
   "source": [
    "plt.plot(kt[29150:45000])"
   ]
  },
  {
   "cell_type": "code",
   "execution_count": 125,
   "id": "de109d49",
   "metadata": {},
   "outputs": [
    {
     "data": {
      "text/plain": [
       "[<matplotlib.lines.Line2D at 0x12788020100>]"
      ]
     },
     "execution_count": 125,
     "metadata": {},
     "output_type": "execute_result"
    },
    {
     "data": {
      "image/png": "[encoded data removed]",
      "text/plain": [
       "<Figure size 640x480 with 1 Axes>"
      ]
     },
     "metadata": {},
     "output_type": "display_data"
    }
   ],
   "source": [
    "plt.plot(kt[29150:31000])"
   ]
  },
  {
   "cell_type": "code",
   "execution_count": 97,
   "id": "7dfeab75",
   "metadata": {},
   "outputs": [
    {
     "data": {
      "text/plain": [
       "[<matplotlib.lines.Line2D at 0x1279a434700>]"
      ]
     },
     "execution_count": 97,
     "metadata": {},
     "output_type": "execute_result"
    },
    {
     "data": {
      "image/png": "[encoded data removed]",
      "text/plain": [
       "<Figure size 640x480 with 1 Axes>"
      ]
     },
     "metadata": {},
     "output_type": "display_data"
    }
   ],
   "source": [
    "plt.plot(kt[100000:1050000])"
   ]
  },
  {
   "cell_type": "code",
   "execution_count": 128,
   "id": "31abcd94",
   "metadata": {},
   "outputs": [
    {
     "data": {
      "text/plain": [
       "[<matplotlib.lines.Line2D at 0x1278ab72940>]"
      ]
     },
     "execution_count": 128,
     "metadata": {},
     "output_type": "execute_result"
    },
    {
     "data": {
      "image/png": "[encoded data removed]",
      "text/plain": [
       "<Figure size 640x480 with 1 Axes>"
      ]
     },
     "metadata": {},
     "output_type": "display_data"
    }
   ],
   "source": [
    "plt.plot(kt[28000:35000])"
   ]
  },
  {
   "cell_type": "code",
   "execution_count": 172,
   "id": "dd478eb6",
   "metadata": {},
   "outputs": [
    {
     "data": {
      "text/plain": [
       "Text(0.5, 1.0, 'Vall Perafita-Claror-Madriu')"
      ]
     },
     "execution_count": 172,
     "metadata": {},
     "output_type": "execute_result"
    },
    {
     "data": {
      "image/png": "[encoded data removed]",
      "text/plain": [
       "<Figure size 640x480 with 1 Axes>"
      ]
     },
     "metadata": {},
     "output_type": "display_data"
    }
   ],
   "source": [
    "plt.plot(pd.to_datetime(df['TIMESTAMP'][29320:82000]),kt[29320:82000])\n",
    "plt.xlabel('Time (10min)')\n",
    "plt.ylabel('10min solar clearness index kt')\n",
    "plt.title('Vall Perafita-Claror-Madriu')\n",
    "#plt.savefig('10minclearness_index_postchange')\n"
   ]
  },
  {
   "cell_type": "code",
   "execution_count": 160,
   "id": "c74de0da",
   "metadata": {},
   "outputs": [
    {
     "data": {
      "text/plain": [
       "Text(0.5, 1.0, 'Vall Perafita-Claror-Madriu')"
      ]
     },
     "execution_count": 160,
     "metadata": {},
     "output_type": "execute_result"
    },
    {
     "data": {
      "image/png": "[encoded data removed]",
      "text/plain": [
       "<Figure size 640x480 with 1 Axes>"
      ]
     },
     "metadata": {},
     "output_type": "display_data"
    }
   ],
   "source": [
    "plt.plot(pd.to_datetime(df['TIMESTAMP']),kt)\n",
    "plt.xlabel('Time (10min)')\n",
    "plt.ylabel('10min solar clearness index kt')\n",
    "plt.title('Vall Perafita-Claror-Madriu')"
   ]
  },
  {
   "cell_type": "code",
   "execution_count": 181,
   "id": "376fc43f",
   "metadata": {},
   "outputs": [
    {
     "data": {
      "image/png": "[encoded data removed]",
      "text/plain": [
       "<Figure size 640x480 with 1 Axes>"
      ]
     },
     "metadata": {},
     "output_type": "display_data"
    }
   ],
   "source": [
    "fig, ax = plt.subplots()\n",
    "\n",
    "plt.plot(pd.to_datetime(df['TIMESTAMP'][80500:81200]),kt[80500:81200])\n",
    "ax.xaxis.set_major_locator(plt.MaxNLocator(3))"
   ]
  },
  {
   "cell_type": "code",
   "execution_count": 155,
   "id": "0fc47e35",
   "metadata": {},
   "outputs": [
    {
     "data": {
      "image/png": "[encoded data removed]",
      "text/plain": [
       "<Figure size 640x480 with 1 Axes>"
      ]
     },
     "metadata": {},
     "output_type": "display_data"
    },
    {
     "data": {
      "image/png": "[encoded data removed]",
      "text/plain": [
       "<Figure size 640x480 with 1 Axes>"
      ]
     },
     "metadata": {},
     "output_type": "display_data"
    }
   ],
   "source": [
    "plt.plot(kt[29162:29500])\n",
    "plt.show()\n",
    "\n",
    "plt.plot(kt[29162:29240])\n",
    "plt.show()"
   ]
  },
  {
   "cell_type": "code",
   "execution_count": 99,
   "id": "df2d3920",
   "metadata": {},
   "outputs": [
    {
     "data": {
      "text/plain": [
       "0.5468946401974358"
      ]
     },
     "execution_count": 99,
     "metadata": {},
     "output_type": "execute_result"
    }
   ],
   "source": [
    "kt.mean()"
   ]
  },
  {
   "cell_type": "code",
   "execution_count": 161,
   "id": "c838068f",
   "metadata": {},
   "outputs": [],
   "source": [
    "#Provam de fer un RS_Avg =np.nan per SZA >85"
   ]
  },
  {
   "cell_type": "code",
   "execution_count": 166,
   "id": "103af3c1",
   "metadata": {},
   "outputs": [
    {
     "name": "stderr",
     "output_type": "stream",
     "text": [
      "C:\\Users\\T.C\\AppData\\Local\\Temp\\ipykernel_14016\\1570415248.py:1: DtypeWarning: Columns (1) have mixed types. Specify dtype option on import or set low_memory=False.\n",
      "  pd.read_csv('results_1.csv')\n"
     ]
    },
    {
     "data": {
      "text/html": [
       "<div>\n",
       "<style scoped>\n",
       "    .dataframe tbody tr th:only-of-type {\n",
       "        vertical-align: middle;\n",
       "    }\n",
       "\n",
       "    .dataframe tbody tr th {\n",
       "        vertical-align: top;\n",
       "    }\n",
       "\n",
       "    .dataframe thead th {\n",
       "        text-align: right;\n",
       "    }\n",
       "</style>\n",
       "<table border=\"1\" class=\"dataframe\">\n",
       "  <thead>\n",
       "    <tr style=\"text-align: right;\">\n",
       "      <th></th>\n",
       "      <th>TIMESTAMP</th>\n",
       "      <th>RS_Std</th>\n",
       "      <th>HumR1min_Avg</th>\n",
       "      <th>RS_Avg</th>\n",
       "      <th>zenith_angle_deg</th>\n",
       "      <th>Hour</th>\n",
       "      <th>Day</th>\n",
       "    </tr>\n",
       "  </thead>\n",
       "  <tbody>\n",
       "    <tr>\n",
       "      <th>0</th>\n",
       "      <td>2009-01-01 00:00:00</td>\n",
       "      <td>NaN</td>\n",
       "      <td>17.19</td>\n",
       "      <td>0.0</td>\n",
       "      <td>160.519214</td>\n",
       "      <td>0.000000</td>\n",
       "      <td>1.000000</td>\n",
       "    </tr>\n",
       "    <tr>\n",
       "      <th>1</th>\n",
       "      <td>2009-01-01 00:10:00</td>\n",
       "      <td>NaN</td>\n",
       "      <td>15.89</td>\n",
       "      <td>0.0</td>\n",
       "      <td>160.341724</td>\n",
       "      <td>0.166667</td>\n",
       "      <td>1.006944</td>\n",
       "    </tr>\n",
       "    <tr>\n",
       "      <th>2</th>\n",
       "      <td>2009-01-01 00:20:00</td>\n",
       "      <td>NaN</td>\n",
       "      <td>14.61</td>\n",
       "      <td>0.0</td>\n",
       "      <td>159.949193</td>\n",
       "      <td>0.333333</td>\n",
       "      <td>1.013889</td>\n",
       "    </tr>\n",
       "    <tr>\n",
       "      <th>3</th>\n",
       "      <td>2009-01-01 00:30:00</td>\n",
       "      <td>NaN</td>\n",
       "      <td>14.95</td>\n",
       "      <td>0.0</td>\n",
       "      <td>159.354097</td>\n",
       "      <td>0.500000</td>\n",
       "      <td>1.020833</td>\n",
       "    </tr>\n",
       "    <tr>\n",
       "      <th>4</th>\n",
       "      <td>2009-01-01 00:40:00</td>\n",
       "      <td>NaN</td>\n",
       "      <td>13.18</td>\n",
       "      <td>0.0</td>\n",
       "      <td>158.573632</td>\n",
       "      <td>0.666667</td>\n",
       "      <td>1.027778</td>\n",
       "    </tr>\n",
       "    <tr>\n",
       "      <th>...</th>\n",
       "      <td>...</td>\n",
       "      <td>...</td>\n",
       "      <td>...</td>\n",
       "      <td>...</td>\n",
       "      <td>...</td>\n",
       "      <td>...</td>\n",
       "      <td>...</td>\n",
       "    </tr>\n",
       "    <tr>\n",
       "      <th>730242</th>\n",
       "      <td>2022-12-31 23:10:00</td>\n",
       "      <td>0.0</td>\n",
       "      <td>53.41</td>\n",
       "      <td>0.0</td>\n",
       "      <td>158.271643</td>\n",
       "      <td>23.166667</td>\n",
       "      <td>31.965278</td>\n",
       "    </tr>\n",
       "    <tr>\n",
       "      <th>730243</th>\n",
       "      <td>2022-12-31 23:20:00</td>\n",
       "      <td>0.0</td>\n",
       "      <td>51.99</td>\n",
       "      <td>0.0</td>\n",
       "      <td>159.116401</td>\n",
       "      <td>23.333333</td>\n",
       "      <td>31.972222</td>\n",
       "    </tr>\n",
       "    <tr>\n",
       "      <th>730244</th>\n",
       "      <td>2022-12-31 23:30:00</td>\n",
       "      <td>0.0</td>\n",
       "      <td>51.62</td>\n",
       "      <td>0.0</td>\n",
       "      <td>159.782794</td>\n",
       "      <td>23.500000</td>\n",
       "      <td>31.979167</td>\n",
       "    </tr>\n",
       "    <tr>\n",
       "      <th>730245</th>\n",
       "      <td>2022-12-31 23:40:00</td>\n",
       "      <td>0.0</td>\n",
       "      <td>48.46</td>\n",
       "      <td>0.0</td>\n",
       "      <td>160.252351</td>\n",
       "      <td>23.666667</td>\n",
       "      <td>31.986111</td>\n",
       "    </tr>\n",
       "    <tr>\n",
       "      <th>730246</th>\n",
       "      <td>2022-12-31 23:50:00</td>\n",
       "      <td>0.0</td>\n",
       "      <td>47.64</td>\n",
       "      <td>0.0</td>\n",
       "      <td>160.510558</td>\n",
       "      <td>23.833333</td>\n",
       "      <td>31.993056</td>\n",
       "    </tr>\n",
       "  </tbody>\n",
       "</table>\n",
       "<p>730247 rows × 7 columns</p>\n",
       "</div>"
      ],
      "text/plain": [
       "                  TIMESTAMP RS_Std HumR1min_Avg  RS_Avg  zenith_angle_deg  \\\n",
       "0       2009-01-01 00:00:00    NaN        17.19     0.0        160.519214   \n",
       "1       2009-01-01 00:10:00    NaN        15.89     0.0        160.341724   \n",
       "2       2009-01-01 00:20:00    NaN        14.61     0.0        159.949193   \n",
       "3       2009-01-01 00:30:00    NaN        14.95     0.0        159.354097   \n",
       "4       2009-01-01 00:40:00    NaN        13.18     0.0        158.573632   \n",
       "...                     ...    ...          ...     ...               ...   \n",
       "730242  2022-12-31 23:10:00    0.0        53.41     0.0        158.271643   \n",
       "730243  2022-12-31 23:20:00    0.0        51.99     0.0        159.116401   \n",
       "730244  2022-12-31 23:30:00    0.0        51.62     0.0        159.782794   \n",
       "730245  2022-12-31 23:40:00    0.0        48.46     0.0        160.252351   \n",
       "730246  2022-12-31 23:50:00    0.0        47.64     0.0        160.510558   \n",
       "\n",
       "             Hour        Day  \n",
       "0        0.000000   1.000000  \n",
       "1        0.166667   1.006944  \n",
       "2        0.333333   1.013889  \n",
       "3        0.500000   1.020833  \n",
       "4        0.666667   1.027778  \n",
       "...           ...        ...  \n",
       "730242  23.166667  31.965278  \n",
       "730243  23.333333  31.972222  \n",
       "730244  23.500000  31.979167  \n",
       "730245  23.666667  31.986111  \n",
       "730246  23.833333  31.993056  \n",
       "\n",
       "[730247 rows x 7 columns]"
      ]
     },
     "execution_count": 166,
     "metadata": {},
     "output_type": "execute_result"
    }
   ],
   "source": [
    "pd.read_csv('results_1.csv')"
   ]
  },
  {
   "cell_type": "code",
   "execution_count": 165,
   "id": "65a93320",
   "metadata": {},
   "outputs": [],
   "source": [
    "df = df.drop(columns= ['index'])\n",
    "#columns=['column_nameA', 'column_nameB']\n",
    "\n",
    "#df = df.drop('index', axis=1)\n",
    "df.to_csv('results_1.csv', index=False)"
   ]
  },
  {
   "cell_type": "code",
   "execution_count": 173,
   "id": "f36caf49",
   "metadata": {},
   "outputs": [
    {
     "data": {
      "text/plain": [
       "85.2346765009949"
      ]
     },
     "execution_count": 173,
     "metadata": {},
     "output_type": "execute_result"
    }
   ],
   "source": [
    "df['zenith_angle_deg'][48]"
   ]
  },
  {
   "cell_type": "markdown",
   "id": "aca02658",
   "metadata": {},
   "source": [
    "# Gruix de Neu"
   ]
  },
  {
   "cell_type": "code",
   "execution_count": 202,
   "id": "467d8ae4",
   "metadata": {},
   "outputs": [
    {
     "data": {
      "text/html": [
       "<div>\n",
       "<style scoped>\n",
       "    .dataframe tbody tr th:only-of-type {\n",
       "        vertical-align: middle;\n",
       "    }\n",
       "\n",
       "    .dataframe tbody tr th {\n",
       "        vertical-align: top;\n",
       "    }\n",
       "\n",
       "    .dataframe thead th {\n",
       "        text-align: right;\n",
       "    }\n",
       "</style>\n",
       "<table border=\"1\" class=\"dataframe\">\n",
       "  <thead>\n",
       "    <tr style=\"text-align: right;\">\n",
       "      <th></th>\n",
       "      <th>TIMESTAMP</th>\n",
       "      <th>Gruix_neu</th>\n",
       "    </tr>\n",
       "  </thead>\n",
       "  <tbody>\n",
       "    <tr>\n",
       "      <th>0</th>\n",
       "      <td>2009-01-01 00:00:00</td>\n",
       "      <td>0.336</td>\n",
       "    </tr>\n",
       "    <tr>\n",
       "      <th>1</th>\n",
       "      <td>2009-01-01 00:10:00</td>\n",
       "      <td>0.332</td>\n",
       "    </tr>\n",
       "    <tr>\n",
       "      <th>2</th>\n",
       "      <td>2009-01-01 00:20:00</td>\n",
       "      <td>0.329</td>\n",
       "    </tr>\n",
       "    <tr>\n",
       "      <th>3</th>\n",
       "      <td>2009-01-01 00:30:00</td>\n",
       "      <td>0.327</td>\n",
       "    </tr>\n",
       "    <tr>\n",
       "      <th>4</th>\n",
       "      <td>2009-01-01 00:40:00</td>\n",
       "      <td>0.332</td>\n",
       "    </tr>\n",
       "    <tr>\n",
       "      <th>...</th>\n",
       "      <td>...</td>\n",
       "      <td>...</td>\n",
       "    </tr>\n",
       "    <tr>\n",
       "      <th>740813</th>\n",
       "      <td>2023-01-02 07:10:00</td>\n",
       "      <td>0.338</td>\n",
       "    </tr>\n",
       "    <tr>\n",
       "      <th>740814</th>\n",
       "      <td>2023-01-02 07:20:00</td>\n",
       "      <td>0.337</td>\n",
       "    </tr>\n",
       "    <tr>\n",
       "      <th>740815</th>\n",
       "      <td>2023-01-02 07:30:00</td>\n",
       "      <td>0.340</td>\n",
       "    </tr>\n",
       "    <tr>\n",
       "      <th>740816</th>\n",
       "      <td>2023-01-02 07:40:00</td>\n",
       "      <td>0.340</td>\n",
       "    </tr>\n",
       "    <tr>\n",
       "      <th>740817</th>\n",
       "      <td>2023-01-02 07:50:00</td>\n",
       "      <td>0.337</td>\n",
       "    </tr>\n",
       "  </tbody>\n",
       "</table>\n",
       "<p>740818 rows × 2 columns</p>\n",
       "</div>"
      ],
      "text/plain": [
       "                 TIMESTAMP  Gruix_neu\n",
       "0      2009-01-01 00:00:00      0.336\n",
       "1      2009-01-01 00:10:00      0.332\n",
       "2      2009-01-01 00:20:00      0.329\n",
       "3      2009-01-01 00:30:00      0.327\n",
       "4      2009-01-01 00:40:00      0.332\n",
       "...                    ...        ...\n",
       "740813 2023-01-02 07:10:00      0.338\n",
       "740814 2023-01-02 07:20:00      0.337\n",
       "740815 2023-01-02 07:30:00      0.340\n",
       "740816 2023-01-02 07:40:00      0.340\n",
       "740817 2023-01-02 07:50:00      0.337\n",
       "\n",
       "[740818 rows x 2 columns]"
      ]
     },
     "execution_count": 202,
     "metadata": {},
     "output_type": "execute_result"
    }
   ],
   "source": [
    "file='PER10MIN2009_2022_GN.csv'\n",
    "df2 = pd.read_csv(file, delimiter=\";\", decimal=\",\",parse_dates = ['TIMESTAMP'])\n",
    "pd.read_csv(file, delimiter=\";\", decimal=\",\",parse_dates = ['TIMESTAMP'] )"
   ]
  },
  {
   "cell_type": "code",
   "execution_count": 194,
   "id": "ff5b2052",
   "metadata": {},
   "outputs": [],
   "source": [
    "#df2['TIMESTAMP'] = pd.to_datetime(df2['TIMESTAMP']).dt.strftime('%Y/%M/%D HH:MM:SS')\n",
    "#df2.to_csv('GN_0.csv', index=False)\n",
    "\n",
    "#FAIL!!!"
   ]
  },
  {
   "cell_type": "code",
   "execution_count": 211,
   "id": "b33a8792",
   "metadata": {},
   "outputs": [
    {
     "data": {
      "text/plain": [
       "numpy.float64"
      ]
     },
     "execution_count": 211,
     "metadata": {},
     "output_type": "execute_result"
    }
   ],
   "source": [
    "neu = df2['Gruix_neu']\n",
    "neu = np.array(neu)\n",
    "type(neu[1])"
   ]
  },
  {
   "cell_type": "code",
   "execution_count": 206,
   "id": "af1a83ac",
   "metadata": {},
   "outputs": [
    {
     "data": {
      "text/plain": [
       "Timestamp('2009-01-21 20:00:00')"
      ]
     },
     "execution_count": 206,
     "metadata": {},
     "output_type": "execute_result"
    }
   ],
   "source": [
    "df2['TIMESTAMP'][3000]"
   ]
  },
  {
   "cell_type": "code",
   "execution_count": 212,
   "id": "bb7ed472",
   "metadata": {},
   "outputs": [
    {
     "data": {
      "text/plain": [
       "[<matplotlib.lines.Line2D at 0x1280da9afd0>]"
      ]
     },
     "execution_count": 212,
     "metadata": {},
     "output_type": "execute_result"
    },
    {
     "data": {
      "image/png": "[encoded data removed]",
      "text/plain": [
       "<Figure size 640x480 with 1 Axes>"
      ]
     },
     "metadata": {},
     "output_type": "display_data"
    }
   ],
   "source": [
    "plt.plot(df2['TIMESTAMP'],neu)"
   ]
  },
  {
   "cell_type": "code",
   "execution_count": 231,
   "id": "3c5a27c2",
   "metadata": {},
   "outputs": [
    {
     "data": {
      "image/png": "[encoded data removed]",
      "text/plain": [
       "<Figure size 640x480 with 1 Axes>"
      ]
     },
     "metadata": {},
     "output_type": "display_data"
    }
   ],
   "source": [
    "#plt.plot(neu)\n",
    "fig, ax = plt.subplots()\n",
    "num_dates = np.arange(len(neu))\n",
    "x= num_dates\n",
    "#x = pd.to_datetime(df2['TIMESTAMP'])\n",
    "fx = neu\n",
    "ax.plot(x[fx>=0], fx[fx>=0], 'g')\n",
    "ax.plot(x[fx<0],  fx[fx<0],  'r')\n",
    "\n",
    "\n",
    "plt.xlabel('Time')\n",
    "plt.ylabel('Snow depth meters (m) every (10min)')\n",
    "plt.savefig('Snow_height')\n",
    "plt.show()\n"
   ]
  },
  {
   "cell_type": "markdown",
   "id": "89ebf1af",
   "metadata": {},
   "source": [
    "# No encaixa els pics de kt per sobre de 1 (de major freqüència) amb els pics de neu\n",
    "\n",
    "# Cada any tenim aproximadament 1 metre \n",
    "\n",
    "# ERROR MOLT GRANS 2012 APROX (ALÇADA DE NEU NEGATIVA)\n"
   ]
  },
  {
   "cell_type": "code",
   "execution_count": null,
   "id": "102585b7",
   "metadata": {},
   "outputs": [],
   "source": []
  }
 ],
 "metadata": {
  "kernelspec": {
   "display_name": "Python 3 (ipykernel)",
   "language": "python",
   "name": "python3"
  },
  "language_info": {
   "codemirror_mode": {
    "name": "ipython",
    "version": 3
   },
   "file_extension": ".py",
   "mimetype": "text/x-python",
   "name": "python",
   "nbconvert_exporter": "python",
   "pygments_lexer": "ipython3",
   "version": "3.9.16"
  }
 },
 "nbformat": 4,
 "nbformat_minor": 5
}
