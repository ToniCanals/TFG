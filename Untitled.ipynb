{
 "cells": [
  {
   "cell_type": "code",
   "execution_count": 1,
   "id": "8ca4535f",
   "metadata": {},
   "outputs": [
    {
     "name": "stdout",
     "output_type": "stream",
     "text": [
      "3.9.16 | packaged by conda-forge | (main, Feb  1 2023, 21:28:38) [MSC v.1929 64 bit (AMD64)]\n"
     ]
    }
   ],
   "source": [
    "import sys\n",
    "print(sys.version)"
   ]
  },
  {
   "cell_type": "code",
   "execution_count": 2,
   "id": "7278b410",
   "metadata": {},
   "outputs": [],
   "source": [
    "import pandas as pd\n",
    "import csv\n",
    "import matplotlib.pyplot as plt\n",
    "from datetime import datetime\n",
    "import numpy as np"
   ]
  },
  {
   "cell_type": "code",
   "execution_count": 3,
   "id": "1b770361",
   "metadata": {},
   "outputs": [],
   "source": [
    "str_filename = 'PER10min2009_2022_RS_H.csv'"
   ]
  },
  {
   "cell_type": "code",
   "execution_count": 4,
   "id": "ff403256",
   "metadata": {},
   "outputs": [],
   "source": [
    "fh = open(str_filename)\n",
    "csv_reader = csv.reader(fh)"
   ]
  },
  {
   "cell_type": "code",
   "execution_count": 10,
   "id": "5f88f44a",
   "metadata": {},
   "outputs": [
    {
     "ename": "TypeError",
     "evalue": "'_io.TextIOWrapper' object is not subscriptable",
     "output_type": "error",
     "traceback": [
      "\u001b[1;31m---------------------------------------------------------------------------\u001b[0m",
      "\u001b[1;31mTypeError\u001b[0m                                 Traceback (most recent call last)",
      "Cell \u001b[1;32mIn[10], line 3\u001b[0m\n\u001b[0;32m      1\u001b[0m lst_dt_csv \u001b[38;5;241m=\u001b[39m \u001b[38;5;28mnext\u001b[39m(csv_reader)\n\u001b[0;32m      2\u001b[0m lst_dt_csv\n\u001b[1;32m----> 3\u001b[0m \u001b[43mfh\u001b[49m\u001b[43m[\u001b[49m\u001b[38;5;124;43m'\u001b[39;49m\u001b[38;5;124;43mRS_Avg\u001b[39;49m\u001b[38;5;124;43m'\u001b[39;49m\u001b[43m]\u001b[49m\u001b[38;5;241m.\u001b[39mplot(kind\u001b[38;5;241m=\u001b[39m\u001b[38;5;124m'\u001b[39m\u001b[38;5;124mhist\u001b[39m\u001b[38;5;124m'\u001b[39m)\n",
      "\u001b[1;31mTypeError\u001b[0m: '_io.TextIOWrapper' object is not subscriptable"
     ]
    }
   ],
   "source": [
    "lst_dt_csv = next(csv_reader)\n",
    "lst_dt_csv\n"
   ]
  },
  {
   "cell_type": "code",
   "execution_count": 9,
   "id": "84425f97",
   "metadata": {},
   "outputs": [
    {
     "ename": "ValueError",
     "evalue": "Invalid isoformat string: 'RS_Std'",
     "output_type": "error",
     "traceback": [
      "\u001b[1;31m---------------------------------------------------------------------------\u001b[0m",
      "\u001b[1;31mValueError\u001b[0m                                Traceback (most recent call last)",
      "Cell \u001b[1;32mIn[9], line 1\u001b[0m\n\u001b[1;32m----> 1\u001b[0m dt_csv \u001b[38;5;241m=\u001b[39m np\u001b[38;5;241m.\u001b[39marray(\u001b[38;5;28;43mlist\u001b[39;49m\u001b[43m(\u001b[49m\u001b[38;5;28;43mmap\u001b[39;49m\u001b[43m(\u001b[49m\u001b[43mdatetime\u001b[49m\u001b[38;5;241;43m.\u001b[39;49m\u001b[43mfromisoformat\u001b[49m\u001b[43m,\u001b[49m\u001b[43m \u001b[49m\u001b[43mlst_dt_csv\u001b[49m\u001b[43m[\u001b[49m\u001b[38;5;241;43m1\u001b[39;49m\u001b[43m:\u001b[49m\u001b[38;5;241;43m3\u001b[39;49m\u001b[43m]\u001b[49m\u001b[43m)\u001b[49m\u001b[43m)\u001b[49m)\n\u001b[0;32m      2\u001b[0m dt_csv\n",
      "\u001b[1;31mValueError\u001b[0m: Invalid isoformat string: 'RS_Std'"
     ]
    }
   ],
   "source": [
    "dt_csv = np.array(list(map(datetime.fromisoformat, lst_dt_csv[1:3])))\n",
    "dt_csv"
   ]
  },
  {
   "cell_type": "code",
   "execution_count": null,
   "id": "61d765d9",
   "metadata": {},
   "outputs": [],
   "source": [
    "lst_fs = next(csv_reader)\n",
    "np_d_fs = np.array(list(map(float, lst_fs[1:3])))\n",
    "np_d_fs"
   ]
  },
  {
   "cell_type": "code",
   "execution_count": null,
   "id": "9e60cd2a",
   "metadata": {},
   "outputs": [],
   "source": [
    "fh.close()"
   ]
  },
  {
   "cell_type": "code",
   "execution_count": null,
   "id": "01505ae4",
   "metadata": {},
   "outputs": [],
   "source": [
    "df_sig = pd.read_csv(str_filename, header=None, skiprows=5, names=csv_header)\n",
    "df_sig"
   ]
  },
  {
   "cell_type": "code",
   "execution_count": null,
   "id": "a82586f0",
   "metadata": {},
   "outputs": [],
   "source": [
    "df_sig.CH1.plot()\n",
    "plt.xlabel('Sample number')\n",
    "plt.xlim([0, 1200])\n",
    "plt.ylabel('Signal value, volts')\n",
    "plt.ylim([-0.5, 0.5])\n",
    "plt.title('CSV data')\n",
    "plt.grid()\n",
    "\n",
    "\n",
    "figure = plt.gcf()\n",
    "figure.set_size_inches(4*1.6, 4)"
   ]
  },
  {
   "cell_type": "code",
   "execution_count": null,
   "id": "599f7611",
   "metadata": {},
   "outputs": [],
   "source": []
  },
  {
   "cell_type": "code",
   "execution_count": null,
   "id": "041ff3c6",
   "metadata": {},
   "outputs": [],
   "source": []
  }
 ],
 "metadata": {
  "kernelspec": {
   "display_name": "Python 3 (ipykernel)",
   "language": "python",
   "name": "python3"
  },
  "language_info": {
   "codemirror_mode": {
    "name": "ipython",
    "version": 3
   },
   "file_extension": ".py",
   "mimetype": "text/x-python",
   "name": "python",
   "nbconvert_exporter": "python",
   "pygments_lexer": "ipython3",
   "version": "3.9.16"
  }
 },
 "nbformat": 4,
 "nbformat_minor": 5
}
