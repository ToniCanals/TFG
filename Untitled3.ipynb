{
 "cells": [
  {
   "cell_type": "code",
   "execution_count": 1,
   "id": "738014d8",
   "metadata": {},
   "outputs": [],
   "source": [
    "from datetime import datetime\n",
    "\n",
    "import datetime as dt\n",
    "from datetime import date, timedelta\n",
    "\n",
    "import matplotlib\n",
    "import matplotlib.pyplot as plt\n",
    "import pandas as pd\n",
    "import numpy as np\n",
    "import seaborn as sb\n",
    "import csv"
   ]
  },
  {
   "cell_type": "code",
   "execution_count": 2,
   "id": "f5ea4f44",
   "metadata": {},
   "outputs": [
    {
     "data": {
      "text/html": [
       "<div>\n",
       "<style scoped>\n",
       "    .dataframe tbody tr th:only-of-type {\n",
       "        vertical-align: middle;\n",
       "    }\n",
       "\n",
       "    .dataframe tbody tr th {\n",
       "        vertical-align: top;\n",
       "    }\n",
       "\n",
       "    .dataframe thead th {\n",
       "        text-align: right;\n",
       "    }\n",
       "</style>\n",
       "<table border=\"1\" class=\"dataframe\">\n",
       "  <thead>\n",
       "    <tr style=\"text-align: right;\">\n",
       "      <th></th>\n",
       "      <th>Date Time doy height SZA RS</th>\n",
       "    </tr>\n",
       "  </thead>\n",
       "  <tbody>\n",
       "    <tr>\n",
       "      <th>0</th>\n",
       "      <td>yyyy-mm-dd hh:mm:ss doy deg deg W/m2</td>\n",
       "    </tr>\n",
       "    <tr>\n",
       "      <th>1</th>\n",
       "      <td>2009-01-01 00:00:00 1 -70.53 160.53 NA</td>\n",
       "    </tr>\n",
       "    <tr>\n",
       "      <th>2</th>\n",
       "      <td>2009-01-01 00:10:00 1 -70.35 160.35 NA</td>\n",
       "    </tr>\n",
       "    <tr>\n",
       "      <th>3</th>\n",
       "      <td>2009-01-01 00:20:00 1 -69.96 159.96 NA</td>\n",
       "    </tr>\n",
       "    <tr>\n",
       "      <th>4</th>\n",
       "      <td>2009-01-01 00:30:00 1 -69.37 159.37 NA</td>\n",
       "    </tr>\n",
       "    <tr>\n",
       "      <th>...</th>\n",
       "      <td>...</td>\n",
       "    </tr>\n",
       "    <tr>\n",
       "      <th>730243</th>\n",
       "      <td>2022-12-31 23:10:00 365 -68.27 158.27 NA</td>\n",
       "    </tr>\n",
       "    <tr>\n",
       "      <th>730244</th>\n",
       "      <td>2022-12-31 23:20:00 365 -69.11 159.11 NA</td>\n",
       "    </tr>\n",
       "    <tr>\n",
       "      <th>730245</th>\n",
       "      <td>2022-12-31 23:30:00 365 -69.78 159.78 NA</td>\n",
       "    </tr>\n",
       "    <tr>\n",
       "      <th>730246</th>\n",
       "      <td>2022-12-31 23:40:00 365 -70.25 160.25 NA</td>\n",
       "    </tr>\n",
       "    <tr>\n",
       "      <th>730247</th>\n",
       "      <td>2022-12-31 23:50:00 365 -70.52 160.52 NA</td>\n",
       "    </tr>\n",
       "  </tbody>\n",
       "</table>\n",
       "<p>730248 rows × 1 columns</p>\n",
       "</div>"
      ],
      "text/plain": [
       "                     Date Time doy height SZA RS\n",
       "0           yyyy-mm-dd hh:mm:ss doy deg deg W/m2\n",
       "1         2009-01-01 00:00:00 1 -70.53 160.53 NA\n",
       "2         2009-01-01 00:10:00 1 -70.35 160.35 NA\n",
       "3         2009-01-01 00:20:00 1 -69.96 159.96 NA\n",
       "4         2009-01-01 00:30:00 1 -69.37 159.37 NA\n",
       "...                                          ...\n",
       "730243  2022-12-31 23:10:00 365 -68.27 158.27 NA\n",
       "730244  2022-12-31 23:20:00 365 -69.11 159.11 NA\n",
       "730245  2022-12-31 23:30:00 365 -69.78 159.78 NA\n",
       "730246  2022-12-31 23:40:00 365 -70.25 160.25 NA\n",
       "730247  2022-12-31 23:50:00 365 -70.52 160.52 NA\n",
       "\n",
       "[730248 rows x 1 columns]"
      ]
     },
     "execution_count": 2,
     "metadata": {},
     "output_type": "execute_result"
    }
   ],
   "source": [
    "df = pd.read_csv('RS_newFile.txt')\n",
    "df"
   ]
  },
  {
   "cell_type": "code",
   "execution_count": 3,
   "id": "053ed311",
   "metadata": {},
   "outputs": [],
   "source": [
    "file = 'RS_newFile.txt'"
   ]
  },
  {
   "cell_type": "code",
   "execution_count": 4,
   "id": "727c6800",
   "metadata": {},
   "outputs": [],
   "source": [
    "data = csv.reader(open('RS_newFile.txt', 'r'), delimiter=\" \", quotechar='|')\n",
    "column1, column2, column3, column4,column5,column6 = [],[],[],[],[],[]\n",
    "\n",
    "for row in data:\n",
    "    column1.extend([row[0]])\n",
    "    column2.extend([row[1]])\n",
    "    column3.extend([row[2]])\n",
    "    column4.extend([row[3]])\n",
    "    column5.extend([row[4]])\n",
    "    column6.extend([row[5]])"
   ]
  },
  {
   "cell_type": "code",
   "execution_count": 5,
   "id": "630bb157",
   "metadata": {},
   "outputs": [],
   "source": [
    "del column1[:2],column2[:-2],column3[:2],column4[:2],column5[:2],column6[:2]\n"
   ]
  },
  {
   "cell_type": "code",
   "execution_count": 6,
   "id": "61388e3b",
   "metadata": {},
   "outputs": [
    {
     "data": {
      "text/plain": [
       "['2009-01-01', '2009-01-01', '2009-01-01', '2009-01-01']"
      ]
     },
     "execution_count": 6,
     "metadata": {},
     "output_type": "execute_result"
    }
   ],
   "source": [
    "column1[:4]"
   ]
  },
  {
   "cell_type": "code",
   "execution_count": 7,
   "id": "8d790859",
   "metadata": {},
   "outputs": [],
   "source": [
    "new6 = column6\n",
    "new6=['nan' if x == 'NA' else x for x in new6]\n",
    "column6 = new6"
   ]
  },
  {
   "cell_type": "code",
   "execution_count": 8,
   "id": "a4475d7f",
   "metadata": {},
   "outputs": [
    {
     "data": {
      "text/plain": [
       "array([nan, nan, nan, ..., nan, nan, nan])"
      ]
     },
     "execution_count": 8,
     "metadata": {},
     "output_type": "execute_result"
    }
   ],
   "source": [
    "new6 = np.array(new6)\n",
    "new6.astype(float)"
   ]
  },
  {
   "cell_type": "code",
   "execution_count": 9,
   "id": "f4a9d627",
   "metadata": {},
   "outputs": [
    {
     "name": "stdout",
     "output_type": "stream",
     "text": [
      "<class 'numpy.str_'>\n",
      "<class 'numpy.str_'>\n",
      "<class 'numpy.str_'>\n",
      "<class 'numpy.str_'>\n",
      "<class 'numpy.str_'>\n",
      "<class 'numpy.str_'>\n",
      "\n",
      "\n",
      "<class 'numpy.datetime64'>\n",
      "<class 'numpy.str_'>\n",
      "<class 'numpy.int32'>\n",
      "<class 'numpy.float64'>\n",
      "<class 'numpy.float64'>\n",
      "<class 'numpy.float64'>\n"
     ]
    }
   ],
   "source": [
    "col1,col2,col3,col4,col5,col6 = np.array(column1),np.array(column2),np.array(column3),np.array(column4),\\\n",
    "np.array(column5),np.array(column6)\n",
    "\n",
    "print(type(col1[0]))\n",
    "print(type(col2[0]))\n",
    "print(type(col3[0]))\n",
    "print(type(col4[0]))\n",
    "print(type(col5[0]))\n",
    "print(type(col6[0]))\n",
    "\n",
    "\n",
    "col1 = col1.astype('datetime64',copy=False)\n",
    "#col2 = col2.astype('datetime64',copy=False)      # EXPLOTA GUIONS VS COMES I +...\n",
    "col3 = col3.astype(int,copy=False)\n",
    "col4 = col4.astype(float,copy=False)\n",
    "col5 = col5.astype(float,copy=False)\n",
    "col6 = col6.astype(float,copy=False)\n",
    "\n",
    "print(\"\\n\")\n",
    "print(type(col1[0]))\n",
    "print(type(col2[0]))\n",
    "print(type(col3[0]))\n",
    "print(type(col4[0]))\n",
    "print(type(col5[0]))\n",
    "print(type(col6[0]))"
   ]
  },
  {
   "cell_type": "code",
   "execution_count": 10,
   "id": "15c4f223",
   "metadata": {},
   "outputs": [
    {
     "data": {
      "text/plain": [
       "(730247,)"
      ]
     },
     "execution_count": 10,
     "metadata": {},
     "output_type": "execute_result"
    }
   ],
   "source": [
    "np.shape(col1)"
   ]
  },
  {
   "cell_type": "code",
   "execution_count": 11,
   "id": "8324edf7",
   "metadata": {},
   "outputs": [
    {
     "data": {
      "text/plain": [
       "(2,)"
      ]
     },
     "execution_count": 11,
     "metadata": {},
     "output_type": "execute_result"
    }
   ],
   "source": [
    "np.shape(col2)"
   ]
  },
  {
   "cell_type": "code",
   "execution_count": 12,
   "id": "0f2e0cc1",
   "metadata": {},
   "outputs": [
    {
     "data": {
      "text/plain": [
       "(730247,)"
      ]
     },
     "execution_count": 12,
     "metadata": {},
     "output_type": "execute_result"
    }
   ],
   "source": [
    "np.shape(col5)"
   ]
  },
  {
   "cell_type": "code",
   "execution_count": 13,
   "id": "b342d2e9",
   "metadata": {},
   "outputs": [],
   "source": [
    "sza = col5\n",
    "sza[sza >= 87] = np.nan\n",
    "\n"
   ]
  },
  {
   "cell_type": "code",
   "execution_count": 14,
   "id": "0b1e39c1",
   "metadata": {},
   "outputs": [],
   "source": [
    "tup = np.array(list(zip(col3,sza)))"
   ]
  },
  {
   "cell_type": "code",
   "execution_count": 15,
   "id": "6d997887",
   "metadata": {},
   "outputs": [
    {
     "data": {
      "text/plain": [
       "array([[  1.,  nan],\n",
       "       [  1.,  nan],\n",
       "       [  1.,  nan],\n",
       "       ...,\n",
       "       [365.,  nan],\n",
       "       [365.,  nan],\n",
       "       [365.,  nan]])"
      ]
     },
     "execution_count": 15,
     "metadata": {},
     "output_type": "execute_result"
    }
   ],
   "source": [
    "tup"
   ]
  },
  {
   "cell_type": "code",
   "execution_count": 16,
   "id": "6b71cbc3",
   "metadata": {},
   "outputs": [],
   "source": [
    "# Fer array de daytime amb sza list of tuples o separats PROVAR\n",
    "#tuple_list_daytime_sza = [(,),(,)...(,)]\n",
    "#daytime = ['','',]\n",
    "#sza = [nan,nan,...,valors,.. nan, nan]\n",
    "\n",
    " \n",
    "def I0_10min(tup):\n",
    "    Isc = 1367\n",
    "    llista = []\n",
    "    llista2 =[]\n",
    "    llista = np.array(llista)\n",
    "    llista2 = np.array(llista2)\n",
    "    \n",
    "    for day,sza in tup:\n",
    "        gamma = 2*np.pi*(day-1)/365\n",
    "        E0 = 1.000110 + 0.034221*np.cos(gamma) + 0.001280*np.sin(gamma) + 0.000719*np.cos(2*gamma) + 0.000077*np.sin(2*gamma)\n",
    "        sza_rad = np.deg2rad(sza)\n",
    "        I0 = Isc*(E0**-2)*np.cos(sza_rad)\n",
    "        llista = np.append(llista,I0)\n",
    "    return llista,llista2"
   ]
  },
  {
   "cell_type": "code",
   "execution_count": 17,
   "id": "685d3b73",
   "metadata": {},
   "outputs": [],
   "source": [
    "uu = I0_10min(tup)"
   ]
  },
  {
   "cell_type": "code",
   "execution_count": null,
   "id": "f9bedd5a",
   "metadata": {},
   "outputs": [],
   "source": [
    "uu"
   ]
  },
  {
   "cell_type": "code",
   "execution_count": 100,
   "id": "71e70bbc",
   "metadata": {},
   "outputs": [
    {
     "data": {
      "text/plain": [
       "DatetimeIndex(['2023-03-18 23:40:00', '2023-03-18 23:50:00'], dtype='datetime64[ns]', freq=None)"
      ]
     },
     "execution_count": 100,
     "metadata": {},
     "output_type": "execute_result"
    }
   ],
   "source": [
    "a[:100]"
   ]
  },
  {
   "cell_type": "code",
   "execution_count": 125,
   "id": "cd5ae81a",
   "metadata": {},
   "outputs": [
    {
     "name": "stdout",
     "output_type": "stream",
     "text": [
      "[1.]\n"
     ]
    }
   ],
   "source": [
    "caca = []\n",
    "caca = np.array(caca)\n",
    "caca = np.append(caca,[1])\n",
    "print(caca)"
   ]
  },
  {
   "cell_type": "code",
   "execution_count": null,
   "id": "e2baa686",
   "metadata": {},
   "outputs": [],
   "source": []
  }
 ],
 "metadata": {
  "kernelspec": {
   "display_name": "Python 3 (ipykernel)",
   "language": "python",
   "name": "python3"
  },
  "language_info": {
   "codemirror_mode": {
    "name": "ipython",
    "version": 3
   },
   "file_extension": ".py",
   "mimetype": "text/x-python",
   "name": "python",
   "nbconvert_exporter": "python",
   "pygments_lexer": "ipython3",
   "version": "3.9.16"
  }
 },
 "nbformat": 4,
 "nbformat_minor": 5
}
